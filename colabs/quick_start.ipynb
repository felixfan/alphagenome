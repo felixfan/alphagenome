{
  "cells": [
    {
      "metadata": {
        "id": "_"
      },
      "cell_type": "markdown",
      "source": [
        "# Quick start"
      ]
    },
    {
      "cell_type": "code",
      "source": [
        "from google.colab import userdata\n",
        "my_api_key = userdata.get('agnom')"
      ],
      "metadata": {
        "id": "o5T6k7UuQzfS"
      },
      "execution_count": 4,
      "outputs": []
    },
    {
      "metadata": {
        "id": "on5cvb0VoK_D"
      },
      "cell_type": "markdown",
      "source": [
        "Welcome to the quick start guide for AlphaGenome! The goal of this tutorial notebook is to quickly get you started with using the model and making predictions."
      ]
    },
    {
      "metadata": {
        "id": "XNBquB49Nk6W"
      },
      "cell_type": "markdown",
      "source": [
        "```{tip}\n",
        "Open this tutorial in Google colab for interactive viewing.\n",
        "```"
      ]
    },
    {
      "metadata": {
        "id": "W28j15ApoK_D",
        "language": "python"
      },
      "cell_type": "code",
      "source": [
        "# @title Install AlphaGenome\n",
        "\n",
        "# @markdown Run this cell to install AlphaGenome.\n",
        "from IPython.display import clear_output\n",
        "! pip install alphagenome\n",
        "clear_output()"
      ],
      "outputs": [],
      "execution_count": 5
    },
    {
      "metadata": {
        "id": "-lcTVQLvqB6F"
      },
      "cell_type": "markdown",
      "source": [
        "## Imports"
      ]
    },
    {
      "metadata": {
        "id": "KuLPy_awXaP_",
        "language": "python"
      },
      "cell_type": "code",
      "source": [
        "from alphagenome.data import gene_annotation\n",
        "from alphagenome.data import genome\n",
        "from alphagenome.data import transcript as transcript_utils\n",
        "from alphagenome.interpretation import ism\n",
        "from alphagenome.models import dna_client\n",
        "from alphagenome.models import variant_scorers\n",
        "from alphagenome.visualization import plot_components\n",
        "import matplotlib.pyplot as plt\n",
        "import pandas as pd\n",
        "from google.colab import userdata"
      ],
      "outputs": [],
      "execution_count": 6
    },
    {
      "metadata": {
        "id": "jEGP__L4oK_E"
      },
      "cell_type": "markdown",
      "source": [
        "## Predict outputs for a DNA sequence"
      ]
    },
    {
      "metadata": {
        "id": "Bzov6O0goK_F"
      },
      "cell_type": "markdown",
      "source": [
        "AlphaGenome is a model that makes predictions from DNA sequences. Let's load it up:\n",
        "\n"
      ]
    },
    {
      "metadata": {
        "id": "toBpbthy93gr",
        "language": "python"
      },
      "cell_type": "code",
      "source": [
        "dna_model = dna_client.create(userdata.get('ALPHA_GENOME_API_KEY'))"
      ],
      "outputs": [],
      "execution_count": 9
    },
    {
      "metadata": {
        "id": "H_358E_nkYVt"
      },
      "cell_type": "markdown",
      "source": [
        "The model can make predictions for the following [output types](https://www.alphagenomedocs.com/exploring_model_metadata.html):"
      ]
    },
    {
      "metadata": {
        "id": "U2Q-amDjkYVt",
        "outputId": "c7d12ab8-6b4e-4f08-c8af-1508606d66e6",
        "colab": {
          "base_uri": "https://localhost:8080/"
        }
      },
      "cell_type": "code",
      "source": [
        "[output.name for output in dna_client.OutputType]"
      ],
      "outputs": [
        {
          "output_type": "execute_result",
          "data": {
            "text/plain": [
              "['ATAC',\n",
              " 'CAGE',\n",
              " 'DNASE',\n",
              " 'RNA_SEQ',\n",
              " 'CHIP_HISTONE',\n",
              " 'CHIP_TF',\n",
              " 'SPLICE_SITES',\n",
              " 'SPLICE_SITE_USAGE',\n",
              " 'SPLICE_JUNCTIONS',\n",
              " 'CONTACT_MAPS',\n",
              " 'PROCAP']"
            ]
          },
          "metadata": {},
          "execution_count": 10
        }
      ],
      "execution_count": 10
    },
    {
      "metadata": {
        "id": "dpFi65J3kYVt"
      },
      "cell_type": "markdown",
      "source": [
        "AlphaGenome predicts multiple 'tracks' per output type, covering a wide variety of tissues and cell-types.  However, predictions can be made efficiently for subsets of interest.\n",
        "\n",
        "Here is how to make DNase-seq predictions (as specified by `OutputType`) in a subset of tracks corresponding to lung tissue (as specified by `ontology_terms`) for a short DNA sequence of length 2048:\n",
        "\n",
        "*Note: We use ontology terms from standardized biological sources like UBERON (for anatomy) and the Cell Ontology (CL) to provide consistent and widely recognized classifications for tissue and cell types.*"
      ]
    },
    {
      "metadata": {
        "id": "pRv5MT9hkYVt"
      },
      "cell_type": "code",
      "source": [
        "output = dna_model.predict_sequence(\n",
        "    sequence='GATTACA'.center(2048, 'N'),  # Pad to valid sequence length.\n",
        "    requested_outputs=[dna_client.OutputType.DNASE],\n",
        "    ontology_terms=['UBERON:0002048'],  # Lung.\n",
        ")"
      ],
      "outputs": [],
      "execution_count": 11
    },
    {
      "metadata": {
        "id": "bHz9nXh9kYVt"
      },
      "cell_type": "markdown",
      "source": [
        "The `output` object contains predictions for all the different requested output types (in this case, only output type `DNASE`). Predictions for genomic tracks are stored inside a `TrackData` object:                                                                                                                            "
      ]
    },
    {
      "metadata": {
        "id": "KmQMwe1MkYVt",
        "outputId": "eecc5fe4-f096-4890-948d-74a704e16c6c",
        "colab": {
          "base_uri": "https://localhost:8080/"
        }
      },
      "cell_type": "code",
      "source": [
        "dnase = output.dnase\n",
        "type(dnase)"
      ],
      "outputs": [
        {
          "output_type": "execute_result",
          "data": {
            "text/plain": [
              "alphagenome.data.track_data.TrackData"
            ]
          },
          "metadata": {},
          "execution_count": 12
        }
      ],
      "execution_count": 12
    },
    {
      "metadata": {
        "id": "HflwfcSxkYVt"
      },
      "cell_type": "markdown",
      "source": [
        "`TrackData` objects have the following components:"
      ]
    },
    {
      "metadata": {
        "id": "pudb_vcWkYVt"
      },
      "cell_type": "markdown",
      "source": [
        "<a href=\"https://services.google.com/fh/files/misc/trackdata.png\"><img src=\"https://services.google.com/fh/files/misc/trackdata.png\" alt=\"trackdata\" border=\"0\" height=500></a>"
      ]
    },
    {
      "metadata": {
        "id": "0R24IDvokYVt"
      },
      "cell_type": "markdown",
      "source": [
        "The predictions of shape `(sequence_length, num_tracks)` are stored in `.values`:"
      ]
    },
    {
      "metadata": {
        "id": "7OoINJM_kYVt",
        "outputId": "87b84528-e587-420d-d20d-e2d451c94d74",
        "colab": {
          "base_uri": "https://localhost:8080/"
        }
      },
      "cell_type": "code",
      "source": [
        "print(dnase.values.shape)\n",
        "\n",
        "dnase.values"
      ],
      "outputs": [
        {
          "output_type": "stream",
          "name": "stdout",
          "text": [
            "(2048, 1)\n"
          ]
        },
        {
          "output_type": "execute_result",
          "data": {
            "text/plain": [
              "array([[0.001297  ],\n",
              "       [0.00121307],\n",
              "       [0.00121307],\n",
              "       ...,\n",
              "       [0.00138092],\n",
              "       [0.00213623],\n",
              "       [0.00292969]], dtype=float32)"
            ]
          },
          "metadata": {},
          "execution_count": 13
        }
      ],
      "execution_count": 13
    },
    {
      "metadata": {
        "id": "6kAs7jA_kYVt"
      },
      "cell_type": "markdown",
      "source": [
        "And the corresponding metadata describing each of the tracks is stored in `.metadata`:\n"
      ]
    },
    {
      "metadata": {
        "id": "6SPQ6zhukYVt",
        "outputId": "e02c43cb-1bd1-44e8-f452-c644b2958b28",
        "colab": {
          "base_uri": "https://localhost:8080/",
          "height": 81
        }
      },
      "cell_type": "code",
      "source": [
        "dnase.metadata"
      ],
      "outputs": [
        {
          "output_type": "execute_result",
          "data": {
            "text/plain": [
              "                       name strand Assay title  ontology_curie biosample_name  \\\n",
              "0  UBERON:0002048 DNase-seq      .   DNase-seq  UBERON:0002048           lung   \n",
              "\n",
              "  biosample_type biosample_life_stage data_source endedness  \\\n",
              "0         tissue            embryonic      encode    paired   \n",
              "\n",
              "   genetically_modified  \n",
              "0                 False  "
            ],
            "text/html": [
              "\n",
              "  <div id=\"df-2b9f1ef6-9609-4587-ae92-0f431600432e\" class=\"colab-df-container\">\n",
              "    <div>\n",
              "<style scoped>\n",
              "    .dataframe tbody tr th:only-of-type {\n",
              "        vertical-align: middle;\n",
              "    }\n",
              "\n",
              "    .dataframe tbody tr th {\n",
              "        vertical-align: top;\n",
              "    }\n",
              "\n",
              "    .dataframe thead th {\n",
              "        text-align: right;\n",
              "    }\n",
              "</style>\n",
              "<table border=\"1\" class=\"dataframe\">\n",
              "  <thead>\n",
              "    <tr style=\"text-align: right;\">\n",
              "      <th></th>\n",
              "      <th>name</th>\n",
              "      <th>strand</th>\n",
              "      <th>Assay title</th>\n",
              "      <th>ontology_curie</th>\n",
              "      <th>biosample_name</th>\n",
              "      <th>biosample_type</th>\n",
              "      <th>biosample_life_stage</th>\n",
              "      <th>data_source</th>\n",
              "      <th>endedness</th>\n",
              "      <th>genetically_modified</th>\n",
              "    </tr>\n",
              "  </thead>\n",
              "  <tbody>\n",
              "    <tr>\n",
              "      <th>0</th>\n",
              "      <td>UBERON:0002048 DNase-seq</td>\n",
              "      <td>.</td>\n",
              "      <td>DNase-seq</td>\n",
              "      <td>UBERON:0002048</td>\n",
              "      <td>lung</td>\n",
              "      <td>tissue</td>\n",
              "      <td>embryonic</td>\n",
              "      <td>encode</td>\n",
              "      <td>paired</td>\n",
              "      <td>False</td>\n",
              "    </tr>\n",
              "  </tbody>\n",
              "</table>\n",
              "</div>\n",
              "    <div class=\"colab-df-buttons\">\n",
              "\n",
              "  <div class=\"colab-df-container\">\n",
              "    <button class=\"colab-df-convert\" onclick=\"convertToInteractive('df-2b9f1ef6-9609-4587-ae92-0f431600432e')\"\n",
              "            title=\"Convert this dataframe to an interactive table.\"\n",
              "            style=\"display:none;\">\n",
              "\n",
              "  <svg xmlns=\"http://www.w3.org/2000/svg\" height=\"24px\" viewBox=\"0 -960 960 960\">\n",
              "    <path d=\"M120-120v-720h720v720H120Zm60-500h600v-160H180v160Zm220 220h160v-160H400v160Zm0 220h160v-160H400v160ZM180-400h160v-160H180v160Zm440 0h160v-160H620v160ZM180-180h160v-160H180v160Zm440 0h160v-160H620v160Z\"/>\n",
              "  </svg>\n",
              "    </button>\n",
              "\n",
              "  <style>\n",
              "    .colab-df-container {\n",
              "      display:flex;\n",
              "      gap: 12px;\n",
              "    }\n",
              "\n",
              "    .colab-df-convert {\n",
              "      background-color: #E8F0FE;\n",
              "      border: none;\n",
              "      border-radius: 50%;\n",
              "      cursor: pointer;\n",
              "      display: none;\n",
              "      fill: #1967D2;\n",
              "      height: 32px;\n",
              "      padding: 0 0 0 0;\n",
              "      width: 32px;\n",
              "    }\n",
              "\n",
              "    .colab-df-convert:hover {\n",
              "      background-color: #E2EBFA;\n",
              "      box-shadow: 0px 1px 2px rgba(60, 64, 67, 0.3), 0px 1px 3px 1px rgba(60, 64, 67, 0.15);\n",
              "      fill: #174EA6;\n",
              "    }\n",
              "\n",
              "    .colab-df-buttons div {\n",
              "      margin-bottom: 4px;\n",
              "    }\n",
              "\n",
              "    [theme=dark] .colab-df-convert {\n",
              "      background-color: #3B4455;\n",
              "      fill: #D2E3FC;\n",
              "    }\n",
              "\n",
              "    [theme=dark] .colab-df-convert:hover {\n",
              "      background-color: #434B5C;\n",
              "      box-shadow: 0px 1px 3px 1px rgba(0, 0, 0, 0.15);\n",
              "      filter: drop-shadow(0px 1px 2px rgba(0, 0, 0, 0.3));\n",
              "      fill: #FFFFFF;\n",
              "    }\n",
              "  </style>\n",
              "\n",
              "    <script>\n",
              "      const buttonEl =\n",
              "        document.querySelector('#df-2b9f1ef6-9609-4587-ae92-0f431600432e button.colab-df-convert');\n",
              "      buttonEl.style.display =\n",
              "        google.colab.kernel.accessAllowed ? 'block' : 'none';\n",
              "\n",
              "      async function convertToInteractive(key) {\n",
              "        const element = document.querySelector('#df-2b9f1ef6-9609-4587-ae92-0f431600432e');\n",
              "        const dataTable =\n",
              "          await google.colab.kernel.invokeFunction('convertToInteractive',\n",
              "                                                    [key], {});\n",
              "        if (!dataTable) return;\n",
              "\n",
              "        const docLinkHtml = 'Like what you see? Visit the ' +\n",
              "          '<a target=\"_blank\" href=https://colab.research.google.com/notebooks/data_table.ipynb>data table notebook</a>'\n",
              "          + ' to learn more about interactive tables.';\n",
              "        element.innerHTML = '';\n",
              "        dataTable['output_type'] = 'display_data';\n",
              "        await google.colab.output.renderOutput(dataTable, element);\n",
              "        const docLink = document.createElement('div');\n",
              "        docLink.innerHTML = docLinkHtml;\n",
              "        element.appendChild(docLink);\n",
              "      }\n",
              "    </script>\n",
              "  </div>\n",
              "\n",
              "\n",
              "    </div>\n",
              "  </div>\n"
            ],
            "application/vnd.google.colaboratory.intrinsic+json": {
              "type": "dataframe",
              "summary": "{\n  \"name\": \"dnase\",\n  \"rows\": 1,\n  \"fields\": [\n    {\n      \"column\": \"name\",\n      \"properties\": {\n        \"dtype\": \"string\",\n        \"num_unique_values\": 1,\n        \"samples\": [\n          \"UBERON:0002048 DNase-seq\"\n        ],\n        \"semantic_type\": \"\",\n        \"description\": \"\"\n      }\n    },\n    {\n      \"column\": \"strand\",\n      \"properties\": {\n        \"dtype\": \"string\",\n        \"num_unique_values\": 1,\n        \"samples\": [\n          \".\"\n        ],\n        \"semantic_type\": \"\",\n        \"description\": \"\"\n      }\n    },\n    {\n      \"column\": \"Assay title\",\n      \"properties\": {\n        \"dtype\": \"string\",\n        \"num_unique_values\": 1,\n        \"samples\": [\n          \"DNase-seq\"\n        ],\n        \"semantic_type\": \"\",\n        \"description\": \"\"\n      }\n    },\n    {\n      \"column\": \"ontology_curie\",\n      \"properties\": {\n        \"dtype\": \"string\",\n        \"num_unique_values\": 1,\n        \"samples\": [\n          \"UBERON:0002048\"\n        ],\n        \"semantic_type\": \"\",\n        \"description\": \"\"\n      }\n    },\n    {\n      \"column\": \"biosample_name\",\n      \"properties\": {\n        \"dtype\": \"string\",\n        \"num_unique_values\": 1,\n        \"samples\": [\n          \"lung\"\n        ],\n        \"semantic_type\": \"\",\n        \"description\": \"\"\n      }\n    },\n    {\n      \"column\": \"biosample_type\",\n      \"properties\": {\n        \"dtype\": \"string\",\n        \"num_unique_values\": 1,\n        \"samples\": [\n          \"tissue\"\n        ],\n        \"semantic_type\": \"\",\n        \"description\": \"\"\n      }\n    },\n    {\n      \"column\": \"biosample_life_stage\",\n      \"properties\": {\n        \"dtype\": \"string\",\n        \"num_unique_values\": 1,\n        \"samples\": [\n          \"embryonic\"\n        ],\n        \"semantic_type\": \"\",\n        \"description\": \"\"\n      }\n    },\n    {\n      \"column\": \"data_source\",\n      \"properties\": {\n        \"dtype\": \"string\",\n        \"num_unique_values\": 1,\n        \"samples\": [\n          \"encode\"\n        ],\n        \"semantic_type\": \"\",\n        \"description\": \"\"\n      }\n    },\n    {\n      \"column\": \"endedness\",\n      \"properties\": {\n        \"dtype\": \"string\",\n        \"num_unique_values\": 1,\n        \"samples\": [\n          \"paired\"\n        ],\n        \"semantic_type\": \"\",\n        \"description\": \"\"\n      }\n    },\n    {\n      \"column\": \"genetically_modified\",\n      \"properties\": {\n        \"dtype\": \"boolean\",\n        \"num_unique_values\": 1,\n        \"samples\": [\n          false\n        ],\n        \"semantic_type\": \"\",\n        \"description\": \"\"\n      }\n    }\n  ]\n}"
            }
          },
          "metadata": {},
          "execution_count": 14
        }
      ],
      "execution_count": 14
    },
    {
      "metadata": {
        "id": "KLVSBMxVkYVt"
      },
      "cell_type": "markdown",
      "source": [
        "In this case, there is only one output track, so the track metadata returns only 1 row.\n",
        "\n",
        "The track metadata is especially useful when requesting predictions for multiple tissues or cell-types, and when dealing with stranded assays (which are assays with separate readouts for the two DNA strands, such as CAGE and RNA-seq):\n"
      ]
    },
    {
      "metadata": {
        "id": "LGYCvBbmkYVt",
        "outputId": "36a62391-9589-46fa-bfed-942b92758a1a",
        "colab": {
          "base_uri": "https://localhost:8080/"
        }
      },
      "cell_type": "code",
      "source": [
        "output = dna_model.predict_sequence(\n",
        "    sequence='GATTACA'.center(2048, 'N'),  # Pad to valid sequence length.\n",
        "    requested_outputs=[\n",
        "        dna_client.OutputType.CAGE,\n",
        "        dna_client.OutputType.DNASE,\n",
        "    ],\n",
        "    ontology_terms=[\n",
        "        'UBERON:0002048',  # Lung.\n",
        "        'UBERON:0000955',  # Brain.\n",
        "    ],\n",
        ")\n",
        "\n",
        "print(f'DNASE predictions shape: {output.dnase.values.shape}')\n",
        "print(f'CAGE predictions shape: {output.cage.values.shape}')"
      ],
      "outputs": [
        {
          "output_type": "stream",
          "name": "stdout",
          "text": [
            "DNASE predictions shape: (2048, 2)\n",
            "CAGE predictions shape: (2048, 4)\n"
          ]
        }
      ],
      "execution_count": 15
    },
    {
      "metadata": {
        "id": "sA4plQHMkYVt"
      },
      "cell_type": "markdown",
      "source": [
        "Notice that in this example, we requested predictions for 2 assays and 2 ontology terms simultaneously.\n",
        "\n",
        "The CAGE track metadata describes the strand and tissue of each of the 4 predicted tracks (2 per DNA strand):"
      ]
    },
    {
      "metadata": {
        "id": "89vnUT2KkYVt",
        "outputId": "e592dc5e-638b-4394-aebf-20ba37d5af37",
        "colab": {
          "base_uri": "https://localhost:8080/",
          "height": 175
        }
      },
      "cell_type": "code",
      "source": [
        "output.cage.metadata"
      ],
      "outputs": [
        {
          "output_type": "execute_result",
          "data": {
            "text/plain": [
              "                   name strand Assay title  ontology_curie biosample_name  \\\n",
              "0  hCAGE UBERON:0000955      +       hCAGE  UBERON:0000955          brain   \n",
              "1  hCAGE UBERON:0002048      +       hCAGE  UBERON:0002048           lung   \n",
              "2  hCAGE UBERON:0000955      -       hCAGE  UBERON:0000955          brain   \n",
              "3  hCAGE UBERON:0002048      -       hCAGE  UBERON:0002048           lung   \n",
              "\n",
              "  biosample_type data_source  \n",
              "0         tissue      fantom  \n",
              "1         tissue      fantom  \n",
              "2         tissue      fantom  \n",
              "3         tissue      fantom  "
            ],
            "text/html": [
              "\n",
              "  <div id=\"df-865d3a07-65f0-4257-a821-e4159d9bdb01\" class=\"colab-df-container\">\n",
              "    <div>\n",
              "<style scoped>\n",
              "    .dataframe tbody tr th:only-of-type {\n",
              "        vertical-align: middle;\n",
              "    }\n",
              "\n",
              "    .dataframe tbody tr th {\n",
              "        vertical-align: top;\n",
              "    }\n",
              "\n",
              "    .dataframe thead th {\n",
              "        text-align: right;\n",
              "    }\n",
              "</style>\n",
              "<table border=\"1\" class=\"dataframe\">\n",
              "  <thead>\n",
              "    <tr style=\"text-align: right;\">\n",
              "      <th></th>\n",
              "      <th>name</th>\n",
              "      <th>strand</th>\n",
              "      <th>Assay title</th>\n",
              "      <th>ontology_curie</th>\n",
              "      <th>biosample_name</th>\n",
              "      <th>biosample_type</th>\n",
              "      <th>data_source</th>\n",
              "    </tr>\n",
              "  </thead>\n",
              "  <tbody>\n",
              "    <tr>\n",
              "      <th>0</th>\n",
              "      <td>hCAGE UBERON:0000955</td>\n",
              "      <td>+</td>\n",
              "      <td>hCAGE</td>\n",
              "      <td>UBERON:0000955</td>\n",
              "      <td>brain</td>\n",
              "      <td>tissue</td>\n",
              "      <td>fantom</td>\n",
              "    </tr>\n",
              "    <tr>\n",
              "      <th>1</th>\n",
              "      <td>hCAGE UBERON:0002048</td>\n",
              "      <td>+</td>\n",
              "      <td>hCAGE</td>\n",
              "      <td>UBERON:0002048</td>\n",
              "      <td>lung</td>\n",
              "      <td>tissue</td>\n",
              "      <td>fantom</td>\n",
              "    </tr>\n",
              "    <tr>\n",
              "      <th>2</th>\n",
              "      <td>hCAGE UBERON:0000955</td>\n",
              "      <td>-</td>\n",
              "      <td>hCAGE</td>\n",
              "      <td>UBERON:0000955</td>\n",
              "      <td>brain</td>\n",
              "      <td>tissue</td>\n",
              "      <td>fantom</td>\n",
              "    </tr>\n",
              "    <tr>\n",
              "      <th>3</th>\n",
              "      <td>hCAGE UBERON:0002048</td>\n",
              "      <td>-</td>\n",
              "      <td>hCAGE</td>\n",
              "      <td>UBERON:0002048</td>\n",
              "      <td>lung</td>\n",
              "      <td>tissue</td>\n",
              "      <td>fantom</td>\n",
              "    </tr>\n",
              "  </tbody>\n",
              "</table>\n",
              "</div>\n",
              "    <div class=\"colab-df-buttons\">\n",
              "\n",
              "  <div class=\"colab-df-container\">\n",
              "    <button class=\"colab-df-convert\" onclick=\"convertToInteractive('df-865d3a07-65f0-4257-a821-e4159d9bdb01')\"\n",
              "            title=\"Convert this dataframe to an interactive table.\"\n",
              "            style=\"display:none;\">\n",
              "\n",
              "  <svg xmlns=\"http://www.w3.org/2000/svg\" height=\"24px\" viewBox=\"0 -960 960 960\">\n",
              "    <path d=\"M120-120v-720h720v720H120Zm60-500h600v-160H180v160Zm220 220h160v-160H400v160Zm0 220h160v-160H400v160ZM180-400h160v-160H180v160Zm440 0h160v-160H620v160ZM180-180h160v-160H180v160Zm440 0h160v-160H620v160Z\"/>\n",
              "  </svg>\n",
              "    </button>\n",
              "\n",
              "  <style>\n",
              "    .colab-df-container {\n",
              "      display:flex;\n",
              "      gap: 12px;\n",
              "    }\n",
              "\n",
              "    .colab-df-convert {\n",
              "      background-color: #E8F0FE;\n",
              "      border: none;\n",
              "      border-radius: 50%;\n",
              "      cursor: pointer;\n",
              "      display: none;\n",
              "      fill: #1967D2;\n",
              "      height: 32px;\n",
              "      padding: 0 0 0 0;\n",
              "      width: 32px;\n",
              "    }\n",
              "\n",
              "    .colab-df-convert:hover {\n",
              "      background-color: #E2EBFA;\n",
              "      box-shadow: 0px 1px 2px rgba(60, 64, 67, 0.3), 0px 1px 3px 1px rgba(60, 64, 67, 0.15);\n",
              "      fill: #174EA6;\n",
              "    }\n",
              "\n",
              "    .colab-df-buttons div {\n",
              "      margin-bottom: 4px;\n",
              "    }\n",
              "\n",
              "    [theme=dark] .colab-df-convert {\n",
              "      background-color: #3B4455;\n",
              "      fill: #D2E3FC;\n",
              "    }\n",
              "\n",
              "    [theme=dark] .colab-df-convert:hover {\n",
              "      background-color: #434B5C;\n",
              "      box-shadow: 0px 1px 3px 1px rgba(0, 0, 0, 0.15);\n",
              "      filter: drop-shadow(0px 1px 2px rgba(0, 0, 0, 0.3));\n",
              "      fill: #FFFFFF;\n",
              "    }\n",
              "  </style>\n",
              "\n",
              "    <script>\n",
              "      const buttonEl =\n",
              "        document.querySelector('#df-865d3a07-65f0-4257-a821-e4159d9bdb01 button.colab-df-convert');\n",
              "      buttonEl.style.display =\n",
              "        google.colab.kernel.accessAllowed ? 'block' : 'none';\n",
              "\n",
              "      async function convertToInteractive(key) {\n",
              "        const element = document.querySelector('#df-865d3a07-65f0-4257-a821-e4159d9bdb01');\n",
              "        const dataTable =\n",
              "          await google.colab.kernel.invokeFunction('convertToInteractive',\n",
              "                                                    [key], {});\n",
              "        if (!dataTable) return;\n",
              "\n",
              "        const docLinkHtml = 'Like what you see? Visit the ' +\n",
              "          '<a target=\"_blank\" href=https://colab.research.google.com/notebooks/data_table.ipynb>data table notebook</a>'\n",
              "          + ' to learn more about interactive tables.';\n",
              "        element.innerHTML = '';\n",
              "        dataTable['output_type'] = 'display_data';\n",
              "        await google.colab.output.renderOutput(dataTable, element);\n",
              "        const docLink = document.createElement('div');\n",
              "        docLink.innerHTML = docLinkHtml;\n",
              "        element.appendChild(docLink);\n",
              "      }\n",
              "    </script>\n",
              "  </div>\n",
              "\n",
              "\n",
              "    <div id=\"df-dbda0f7b-6c54-495e-8b8c-1cc9718c0979\">\n",
              "      <button class=\"colab-df-quickchart\" onclick=\"quickchart('df-dbda0f7b-6c54-495e-8b8c-1cc9718c0979')\"\n",
              "                title=\"Suggest charts\"\n",
              "                style=\"display:none;\">\n",
              "\n",
              "<svg xmlns=\"http://www.w3.org/2000/svg\" height=\"24px\"viewBox=\"0 0 24 24\"\n",
              "     width=\"24px\">\n",
              "    <g>\n",
              "        <path d=\"M19 3H5c-1.1 0-2 .9-2 2v14c0 1.1.9 2 2 2h14c1.1 0 2-.9 2-2V5c0-1.1-.9-2-2-2zM9 17H7v-7h2v7zm4 0h-2V7h2v10zm4 0h-2v-4h2v4z\"/>\n",
              "    </g>\n",
              "</svg>\n",
              "      </button>\n",
              "\n",
              "<style>\n",
              "  .colab-df-quickchart {\n",
              "      --bg-color: #E8F0FE;\n",
              "      --fill-color: #1967D2;\n",
              "      --hover-bg-color: #E2EBFA;\n",
              "      --hover-fill-color: #174EA6;\n",
              "      --disabled-fill-color: #AAA;\n",
              "      --disabled-bg-color: #DDD;\n",
              "  }\n",
              "\n",
              "  [theme=dark] .colab-df-quickchart {\n",
              "      --bg-color: #3B4455;\n",
              "      --fill-color: #D2E3FC;\n",
              "      --hover-bg-color: #434B5C;\n",
              "      --hover-fill-color: #FFFFFF;\n",
              "      --disabled-bg-color: #3B4455;\n",
              "      --disabled-fill-color: #666;\n",
              "  }\n",
              "\n",
              "  .colab-df-quickchart {\n",
              "    background-color: var(--bg-color);\n",
              "    border: none;\n",
              "    border-radius: 50%;\n",
              "    cursor: pointer;\n",
              "    display: none;\n",
              "    fill: var(--fill-color);\n",
              "    height: 32px;\n",
              "    padding: 0;\n",
              "    width: 32px;\n",
              "  }\n",
              "\n",
              "  .colab-df-quickchart:hover {\n",
              "    background-color: var(--hover-bg-color);\n",
              "    box-shadow: 0 1px 2px rgba(60, 64, 67, 0.3), 0 1px 3px 1px rgba(60, 64, 67, 0.15);\n",
              "    fill: var(--button-hover-fill-color);\n",
              "  }\n",
              "\n",
              "  .colab-df-quickchart-complete:disabled,\n",
              "  .colab-df-quickchart-complete:disabled:hover {\n",
              "    background-color: var(--disabled-bg-color);\n",
              "    fill: var(--disabled-fill-color);\n",
              "    box-shadow: none;\n",
              "  }\n",
              "\n",
              "  .colab-df-spinner {\n",
              "    border: 2px solid var(--fill-color);\n",
              "    border-color: transparent;\n",
              "    border-bottom-color: var(--fill-color);\n",
              "    animation:\n",
              "      spin 1s steps(1) infinite;\n",
              "  }\n",
              "\n",
              "  @keyframes spin {\n",
              "    0% {\n",
              "      border-color: transparent;\n",
              "      border-bottom-color: var(--fill-color);\n",
              "      border-left-color: var(--fill-color);\n",
              "    }\n",
              "    20% {\n",
              "      border-color: transparent;\n",
              "      border-left-color: var(--fill-color);\n",
              "      border-top-color: var(--fill-color);\n",
              "    }\n",
              "    30% {\n",
              "      border-color: transparent;\n",
              "      border-left-color: var(--fill-color);\n",
              "      border-top-color: var(--fill-color);\n",
              "      border-right-color: var(--fill-color);\n",
              "    }\n",
              "    40% {\n",
              "      border-color: transparent;\n",
              "      border-right-color: var(--fill-color);\n",
              "      border-top-color: var(--fill-color);\n",
              "    }\n",
              "    60% {\n",
              "      border-color: transparent;\n",
              "      border-right-color: var(--fill-color);\n",
              "    }\n",
              "    80% {\n",
              "      border-color: transparent;\n",
              "      border-right-color: var(--fill-color);\n",
              "      border-bottom-color: var(--fill-color);\n",
              "    }\n",
              "    90% {\n",
              "      border-color: transparent;\n",
              "      border-bottom-color: var(--fill-color);\n",
              "    }\n",
              "  }\n",
              "</style>\n",
              "\n",
              "      <script>\n",
              "        async function quickchart(key) {\n",
              "          const quickchartButtonEl =\n",
              "            document.querySelector('#' + key + ' button');\n",
              "          quickchartButtonEl.disabled = true;  // To prevent multiple clicks.\n",
              "          quickchartButtonEl.classList.add('colab-df-spinner');\n",
              "          try {\n",
              "            const charts = await google.colab.kernel.invokeFunction(\n",
              "                'suggestCharts', [key], {});\n",
              "          } catch (error) {\n",
              "            console.error('Error during call to suggestCharts:', error);\n",
              "          }\n",
              "          quickchartButtonEl.classList.remove('colab-df-spinner');\n",
              "          quickchartButtonEl.classList.add('colab-df-quickchart-complete');\n",
              "        }\n",
              "        (() => {\n",
              "          let quickchartButtonEl =\n",
              "            document.querySelector('#df-dbda0f7b-6c54-495e-8b8c-1cc9718c0979 button');\n",
              "          quickchartButtonEl.style.display =\n",
              "            google.colab.kernel.accessAllowed ? 'block' : 'none';\n",
              "        })();\n",
              "      </script>\n",
              "    </div>\n",
              "\n",
              "    </div>\n",
              "  </div>\n"
            ],
            "application/vnd.google.colaboratory.intrinsic+json": {
              "type": "dataframe",
              "summary": "{\n  \"name\": \"output\",\n  \"rows\": 4,\n  \"fields\": [\n    {\n      \"column\": \"name\",\n      \"properties\": {\n        \"dtype\": \"string\",\n        \"num_unique_values\": 2,\n        \"samples\": [\n          \"hCAGE UBERON:0002048\",\n          \"hCAGE UBERON:0000955\"\n        ],\n        \"semantic_type\": \"\",\n        \"description\": \"\"\n      }\n    },\n    {\n      \"column\": \"strand\",\n      \"properties\": {\n        \"dtype\": \"string\",\n        \"num_unique_values\": 2,\n        \"samples\": [\n          \"-\",\n          \"+\"\n        ],\n        \"semantic_type\": \"\",\n        \"description\": \"\"\n      }\n    },\n    {\n      \"column\": \"Assay title\",\n      \"properties\": {\n        \"dtype\": \"category\",\n        \"num_unique_values\": 1,\n        \"samples\": [\n          \"hCAGE\"\n        ],\n        \"semantic_type\": \"\",\n        \"description\": \"\"\n      }\n    },\n    {\n      \"column\": \"ontology_curie\",\n      \"properties\": {\n        \"dtype\": \"string\",\n        \"num_unique_values\": 2,\n        \"samples\": [\n          \"UBERON:0002048\"\n        ],\n        \"semantic_type\": \"\",\n        \"description\": \"\"\n      }\n    },\n    {\n      \"column\": \"biosample_name\",\n      \"properties\": {\n        \"dtype\": \"string\",\n        \"num_unique_values\": 2,\n        \"samples\": [\n          \"lung\"\n        ],\n        \"semantic_type\": \"\",\n        \"description\": \"\"\n      }\n    },\n    {\n      \"column\": \"biosample_type\",\n      \"properties\": {\n        \"dtype\": \"category\",\n        \"num_unique_values\": 1,\n        \"samples\": [\n          \"tissue\"\n        ],\n        \"semantic_type\": \"\",\n        \"description\": \"\"\n      }\n    },\n    {\n      \"column\": \"data_source\",\n      \"properties\": {\n        \"dtype\": \"category\",\n        \"num_unique_values\": 1,\n        \"samples\": [\n          \"fantom\"\n        ],\n        \"semantic_type\": \"\",\n        \"description\": \"\"\n      }\n    }\n  ]\n}"
            }
          },
          "metadata": {},
          "execution_count": 16
        }
      ],
      "execution_count": 16
    },
    {
      "metadata": {
        "id": "HemMKknzkYVt"
      },
      "cell_type": "markdown",
      "source": [
        "See the [output metadata documentation](https://www.alphagenomedocs.com/exploring_model_metadata.html) for more information on the output types and output shapes. For the mapping between tissue names (e.g. 'brain' -> 'UBERON:0000955') and ontology terms, see this [tutorial](tissue_ontology_mapping.ipynb).\n"
      ]
    },
    {
      "metadata": {
        "id": "rL6BQQfqkYVt"
      },
      "cell_type": "markdown",
      "source": [
        "## Predict outputs for a genome interval (reference genome)"
      ]
    },
    {
      "metadata": {
        "id": "cZuGzeStkYVt"
      },
      "cell_type": "markdown",
      "source": [
        "For convenience, you can also directly make predictions for a human reference genome sequence specified by a **genomic interval**. For example, let's predict RNA-seq for tissue 'Right liver lobe' in a 1MB region of Chromosome 19 around the gene *CYP2B6*, which encodes an enzyme involved in drug metabolism, and is primarily expressed in the liver.\n",
        "\n",
        "We first load up a GTF file containing gene and transcript locations as annotated by GENCODE (more information on GTF format [here](https://www.gencodegenes.org/pages/data_format.html)):"
      ]
    },
    {
      "metadata": {
        "id": "1WE7BBh6klIA"
      },
      "cell_type": "code",
      "source": [
        "# The GTF file contains information on the location of all trancripts.\n",
        "# Note that we use genome assembly hg38 for human.\n",
        "gtf = pd.read_feather(\n",
        "    'https://storage.googleapis.com/alphagenome/reference/gencode/'\n",
        "    'hg38/gencode.v46.annotation.gtf.gz.feather'\n",
        ")\n",
        "\n",
        "# Set up transcript extractors using the information in the GTF file.\n",
        "gtf_transcripts = gene_annotation.filter_protein_coding(gtf)\n",
        "gtf_transcripts = gene_annotation.filter_to_longest_transcript(gtf_transcripts)\n",
        "transcript_extractor = transcript_utils.TranscriptExtractor(gtf_transcripts)"
      ],
      "outputs": [],
      "execution_count": 17
    },
    {
      "metadata": {
        "id": "Q5PjqsMCkYVt"
      },
      "cell_type": "markdown",
      "source": [
        "And then fetch the gene's location as a `genome.Interval` object by passing either its `gene_symbol` (HGNC naming convention) or ENSEMBL `gene_id`:"
      ]
    },
    {
      "metadata": {
        "id": "pngLCscokYVt",
        "outputId": "f52705d1-b192-4daf-b143-975f88c3f95c",
        "colab": {
          "base_uri": "https://localhost:8080/"
        }
      },
      "cell_type": "code",
      "source": [
        "interval = gene_annotation.get_gene_interval(gtf, gene_symbol='CYP2B6')\n",
        "interval\n",
        "# 41018398 - 40991281 = 27117 ~= 27K"
      ],
      "outputs": [
        {
          "output_type": "execute_result",
          "data": {
            "text/plain": [
              "Interval(chromosome='chr19', start=40991281, end=41018398, strand='+', name='CYP2B6')"
            ]
          },
          "metadata": {},
          "execution_count": 18
        }
      ],
      "execution_count": 18
    },
    {
      "metadata": {
        "id": "6fLrfgyvkYVt"
      },
      "cell_type": "markdown",
      "source": [
        "We can resize it to a length compatible with the model:"
      ]
    },
    {
      "metadata": {
        "id": "VV5k05MykYVt"
      },
      "cell_type": "code",
      "source": [
        "interval = interval.resize(dna_client.SEQUENCE_LENGTH_1MB)"
      ],
      "outputs": [],
      "execution_count": 19
    },
    {
      "metadata": {
        "id": "pu1A32KJkYVt"
      },
      "cell_type": "markdown",
      "source": [
        "The `.resize()` method adjusts the interval to the specified width by expanding (or contracting) around its original center. Note that `dna_model.predict_interval()` interprets this resizing as an expansion of the actual genomic sequence rather than padding tokens.\n"
      ]
    },
    {
      "metadata": {
        "id": "3TdgcNRskYVt",
        "outputId": "7c30b740-63fd-46f0-94dc-998f73fe492e",
        "colab": {
          "base_uri": "https://localhost:8080/"
        }
      },
      "cell_type": "code",
      "source": [
        "interval.width\n",
        "# 1048576 = 1024 x 1024 = 1M"
      ],
      "outputs": [
        {
          "output_type": "execute_result",
          "data": {
            "text/plain": [
              "1048576"
            ]
          },
          "metadata": {},
          "execution_count": 20
        }
      ],
      "execution_count": 20
    },
    {
      "metadata": {
        "id": "hI5hi6DckYVu"
      },
      "cell_type": "markdown",
      "source": [
        " See the [essential commands documentation](https://www.alphagenomedocs.com/colabs/essential_commands.html) for more handy commands like `resize`.\n",
        "\n",
        "Note that AlphaGenome supports the following input sequence lengths:"
      ]
    },
    {
      "metadata": {
        "id": "22gZecZTkYVu",
        "outputId": "73056dfa-cee3-4c07-b40b-877cd6c2917b",
        "colab": {
          "base_uri": "https://localhost:8080/"
        }
      },
      "cell_type": "code",
      "source": [
        "dna_client.SUPPORTED_SEQUENCE_LENGTHS.keys()"
      ],
      "outputs": [
        {
          "output_type": "execute_result",
          "data": {
            "text/plain": [
              "dict_keys(['SEQUENCE_LENGTH_2KB', 'SEQUENCE_LENGTH_16KB', 'SEQUENCE_LENGTH_100KB', 'SEQUENCE_LENGTH_500KB', 'SEQUENCE_LENGTH_1MB'])"
            ]
          },
          "metadata": {},
          "execution_count": 21
        }
      ],
      "execution_count": 21
    },
    {
      "metadata": {
        "id": "oRk3W7yjkYVu"
      },
      "cell_type": "markdown",
      "source": [
        "\n",
        " We can now make predictions using our interval:"
      ]
    },
    {
      "metadata": {
        "id": "ME7NH0B-kYVu",
        "outputId": "443dcd7f-fa80-4796-d386-88dc2bd0c5c0",
        "colab": {
          "base_uri": "https://localhost:8080/"
        }
      },
      "cell_type": "code",
      "source": [
        "output = dna_model.predict_interval(\n",
        "    interval=interval,\n",
        "    requested_outputs=[dna_client.OutputType.RNA_SEQ],\n",
        "    ontology_terms=['UBERON:0001114'],\n",
        ")  # Right liver lobe.\n",
        "\n",
        "output.rna_seq.values.shape"
      ],
      "outputs": [
        {
          "output_type": "execute_result",
          "data": {
            "text/plain": [
              "(1048576, 3)"
            ]
          },
          "metadata": {},
          "execution_count": 25
        }
      ],
      "execution_count": 25
    },
    {
      "metadata": {
        "id": "HZD6iGfrkYVu"
      },
      "cell_type": "markdown",
      "source": [
        "In general, you can have multiple tracks for a given ontology term. In this case, we have 3 RNA-seq tracks for the tissue \"Right liver lobe\".\n",
        "\n",
        "Let's visualise these predictions. It's helpful visualise gene transcripts alongside the predicted tracks, so we extract them here:"
      ]
    },
    {
      "metadata": {
        "id": "zU61GXrekYVu",
        "outputId": "49ebef87-c21b-447a-e681-a27ccfbebc2b",
        "colab": {
          "base_uri": "https://localhost:8080/"
        }
      },
      "cell_type": "code",
      "source": [
        "longest_transcripts = transcript_extractor.extract(interval)\n",
        "print(f'Extracted {len(longest_transcripts)} transcripts in this interval.')"
      ],
      "outputs": [
        {
          "output_type": "stream",
          "name": "stdout",
          "text": [
            "Extracted 29 transcripts in this interval.\n"
          ]
        }
      ],
      "execution_count": 26
    },
    {
      "metadata": {
        "id": "9hUwvkl_kYVu"
      },
      "cell_type": "markdown",
      "source": [
        "We also provide a [visualization basics guide](https://www.alphagenomedocs.com/visualization_library_basics.html) that integrates nicely with `TrackData` and other objects returned by the model API."
      ]
    },
    {
      "metadata": {
        "id": "MjJsLGnGkYVu",
        "outputId": "efb5b7f1-4980-4803-d0ba-5aaf1ac768b5",
        "colab": {
          "base_uri": "https://localhost:8080/",
          "height": 416
        }
      },
      "cell_type": "code",
      "source": [
        "plot_components.plot(\n",
        "    components=[\n",
        "        plot_components.TranscriptAnnotation(longest_transcripts),\n",
        "        plot_components.Tracks(output.rna_seq),\n",
        "    ],\n",
        "    interval=output.rna_seq.interval,\n",
        ")\n",
        "\n",
        "plt.show()"
      ],
      "outputs": [
        {
          "output_type": "display_data",
          "data": {
            "text/plain": [
              "<Figure size 2000x445 with 4 Axes>"
            ],
            "image/png": "[encoded data removed]"
          },
          "metadata": {}
        }
      ],
      "execution_count": 27
    },
    {
      "metadata": {
        "id": "uBtGbT0skYVu"
      },
      "cell_type": "markdown",
      "source": [
        "This plot visualises the 3 predicted RNA-seq tracks and also marks the location of the longest transcript per gene in the 1MB region.\n",
        "\n",
        "We can zoom in to the middle of the plot by resizing the interval:\n"
      ]
    },
    {
      "metadata": {
        "id": "J8_0AvHbkYVu",
        "outputId": "43cf3376-5b0a-4f2e-ec3b-9f51b2e9e9de"
      },
      "cell_type": "code",
      "source": [
        "plot_components.plot(\n",
        "    components=[\n",
        "        plot_components.TranscriptAnnotation(\n",
        "            longest_transcripts, fig_height=0.1\n",
        "        ),\n",
        "        plot_components.Tracks(output.rna_seq),\n",
        "    ],\n",
        "    interval=output.rna_seq.interval.resize(2**15),\n",
        ")\n",
        "\n",
        "plt.show()"
      ],
      "outputs": [
        {
          "data": {
            "image/png": "[encoded data removed]",
            "text/plain": [
              "<Figure size 1440x288 with 4 Axes>"
            ]
          },
          "metadata": {
            "image/png": {
              "height": 261,
              "width": 1406
            },
            "needs_background": "light"
          },
          "output_type": "display_data"
        }
      ],
      "execution_count": null
    },
    {
      "metadata": {
        "id": "1o5l2yUGkYVu"
      },
      "cell_type": "markdown",
      "source": [
        "You can see here that predicted RNA-seq values are nicely aligned with the location of exons, and that the predictions are stranded – the predicted values are much higher for the positive strand, where the gene is located. We see that the *CYP2B6* gene is on the positive strand since the arrows in the transcript go from left to right.\n",
        "\n",
        "For more detail on the visualization library, please refer to the [visualization basics guide](https://www.alphagenomedocs.com/visualization_library_basics.html) and [library documentation](https://www.alphagenomedocs.com/api/visualization.html)."
      ]
    },
    {
      "metadata": {
        "id": "rPQJQirLkYVu"
      },
      "cell_type": "markdown",
      "source": [
        "## Predict variant effects\n",
        "\n"
      ]
    },
    {
      "metadata": {
        "id": "ktZ0PqhQkYVu"
      },
      "cell_type": "markdown",
      "source": [
        "We can predict the effect of a variant on a specific output type and tissue by making predictions for the reference (REF) and alternative (ALT) allele sequences.\n",
        "\n",
        "We specify the variant by defining a `genome.Variant` object. The specific variant below is a known variant affecting gene expression in colon tissue:"
      ]
    },
    {
      "metadata": {
        "id": "YaxavVV_kYVu"
      },
      "cell_type": "code",
      "source": [
        "variant = genome.Variant(\n",
        "    chromosome='chr22',\n",
        "    position=36201698,\n",
        "    reference_bases='A',  # Can differ from the true reference genome base.\n",
        "    alternate_bases='C',\n",
        ")"
      ],
      "outputs": [],
      "execution_count": 28
    },
    {
      "metadata": {
        "id": "HE2_iU6akYVu"
      },
      "cell_type": "markdown",
      "source": [
        "Next, we define the interval over which to make the REF and ALT predictions. A quick way to get a `genome.Interval` from a `genome.Variant` is by calling `.reference_interval`, which we can resize to a model-compatible sequence length:"
      ]
    },
    {
      "metadata": {
        "id": "0jxThai2kYVu"
      },
      "cell_type": "code",
      "source": [
        "interval = variant.reference_interval.resize(dna_client.SEQUENCE_LENGTH_1MB)"
      ],
      "outputs": [],
      "execution_count": 29
    },
    {
      "metadata": {
        "id": "Oupoz0bGkYVu"
      },
      "cell_type": "markdown",
      "source": [
        "We then use `predict_variant` to get the REF and ALT RNA-seq predictions in the interval for \"Colon - Transverse\" tissue (`UBERON:0001157`):"
      ]
    },
    {
      "metadata": {
        "id": "TZbfcADGkYVu"
      },
      "cell_type": "code",
      "source": [
        "variant_output = dna_model.predict_variant(\n",
        "    interval=interval,\n",
        "    variant=variant,\n",
        "    requested_outputs=[dna_client.OutputType.RNA_SEQ],\n",
        "    ontology_terms=['UBERON:0001157'],\n",
        ")  # Colon - Transverse."
      ],
      "outputs": [],
      "execution_count": 30
    },
    {
      "metadata": {
        "id": "YzYgHwSAkYVu"
      },
      "cell_type": "markdown",
      "source": [
        "We can plot the predicted REF and ALT values as a single plot and zoom in on the affected gene to better visualise the variant's effect on gene expression:"
      ]
    },
    {
      "metadata": {
        "id": "_OTUiWNjkYVu",
        "outputId": "8096731f-42ee-47dc-a9ef-76956358e542",
        "colab": {
          "base_uri": "https://localhost:8080/",
          "height": 439
        }
      },
      "cell_type": "code",
      "source": [
        "longest_transcripts = transcript_extractor.extract(interval)\n",
        "\n",
        "plot_components.plot(\n",
        "    [\n",
        "        plot_components.TranscriptAnnotation(longest_transcripts),\n",
        "        plot_components.OverlaidTracks(\n",
        "            tdata={\n",
        "                'REF': variant_output.reference.rna_seq,\n",
        "                'ALT': variant_output.alternate.rna_seq,\n",
        "            },\n",
        "            colors={'REF': 'dimgrey', 'ALT': 'red'},\n",
        "        ),\n",
        "    ],\n",
        "    interval=variant_output.reference.rna_seq.interval.resize(2**15),\n",
        "    # Annotate the location of the variant as a vertical line.\n",
        "    annotations=[plot_components.VariantAnnotation([variant], alpha=0.8)],\n",
        ")\n",
        "plt.show()"
      ],
      "outputs": [
        {
          "output_type": "display_data",
          "data": {
            "text/plain": [
              "<Figure size 2000x500 with 5 Axes>"
            ],
            "image/png": "[encoded data removed]"
          },
          "metadata": {}
        }
      ],
      "execution_count": 31
    },
    {
      "metadata": {
        "id": "dSz201LRkYVu"
      },
      "cell_type": "markdown",
      "source": [
        "We see that the ALT allele (base 'C' at position 36201698) is associated with both lower expression and an exon skipping event in the *APOL4* gene on the negative strand. Note that we can ignore the uppermost line plot which shows a very minimal predicted amount of expression on the positive DNA strand (check the y axis scales). It is possible to adjust the y axes limits, see [visualization basics](https://www.alphagenomedocs.com/visualization_library_basics.html#visualization-library-basics) and [library documentation](https://www.alphagenomedocs.com/api/visualization.html)."
      ]
    },
    {
      "metadata": {
        "id": "7s4bDxczkYVu"
      },
      "cell_type": "markdown",
      "source": [
        "## Scoring the effect of a genetic variant"
      ]
    },
    {
      "metadata": {
        "id": "wgcrbgqIkYVu"
      },
      "cell_type": "markdown",
      "source": [
        "To score the effect of a genetic variant, one could summarize the output of the above `predict_variant` call by taking the mean of differences to get 1 score per track:"
      ]
    },
    {
      "metadata": {
        "id": "r9_iUrwRkYVu",
        "outputId": "127f8166-b79d-427f-8c40-d508b662a124",
        "colab": {
          "base_uri": "https://localhost:8080/"
        }
      },
      "cell_type": "code",
      "source": [
        "(\n",
        "    variant_output.alternate.rna_seq.values\n",
        "    - variant_output.reference.rna_seq.values\n",
        ").mean(axis=0)"
      ],
      "outputs": [
        {
          "output_type": "execute_result",
          "data": {
            "text/plain": [
              "array([ 5.9783038e-06, -6.3134285e-05, -2.7257620e-04], dtype=float32)"
            ]
          },
          "metadata": {},
          "execution_count": 32
        }
      ],
      "execution_count": 32
    },
    {
      "metadata": {
        "id": "RU9kyfDhkYVu"
      },
      "cell_type": "markdown",
      "source": [
        "However, for convenience, efficiency, and accuracy we recommend using `score_variant`  –  this function runs `predict_variant` and aggregates the REF and ALT predictions in many different ways as specified by specific `variant_scorer` configs. We also provide a set of recommended variant scoring configurations as a dictionary (`variant_scorers.RECOMMENDED_VARIANT_SCORERS`), covering all output types, which we have assessed for their performance at domain-specific tasks.  See the [variant scoring documentation](https://www.alphagenomedocs.com/variant_scoring.html) for more information. Here is a quick demo:"
      ]
    },
    {
      "metadata": {
        "id": "Aj_T3sE8kYVu"
      },
      "cell_type": "code",
      "source": [
        "# This scorer summarises a variant's affect by aggregating mean ALT - REF\n",
        "# RNA-seq differences across gene exons.\n",
        "variant_scorer = variant_scorers.RECOMMENDED_VARIANT_SCORERS['RNA_SEQ']\n",
        "\n",
        "variant_scores = dna_model.score_variant(\n",
        "    interval=interval, variant=variant, variant_scorers=[variant_scorer]\n",
        ")"
      ],
      "outputs": [],
      "execution_count": 33
    },
    {
      "metadata": {
        "id": "ncUCGp0JkYVu"
      },
      "cell_type": "markdown",
      "source": [
        "The returned `variant_scores` is a list of length 1 because we only specified 1 scorer:"
      ]
    },
    {
      "metadata": {
        "id": "xI2aR0OtkYVu",
        "outputId": "5ca91d0f-f825-480b-b7e8-a902e7280d01",
        "colab": {
          "base_uri": "https://localhost:8080/"
        }
      },
      "cell_type": "code",
      "source": [
        "len(variant_scores)"
      ],
      "outputs": [
        {
          "output_type": "execute_result",
          "data": {
            "text/plain": [
              "1"
            ]
          },
          "metadata": {},
          "execution_count": 34
        }
      ],
      "execution_count": 34
    },
    {
      "metadata": {
        "id": "Oow5vOLVkYVu"
      },
      "cell_type": "markdown",
      "source": [
        "The actual scores per variant are in `AnnData` format, which is a way of annotating data (the numerical scores) with additional information about the rows and columns."
      ]
    },
    {
      "metadata": {
        "id": "WCy_9aQ2kYVu",
        "outputId": "a292dfb2-44a3-4117-cf52-9699133768da",
        "colab": {
          "base_uri": "https://localhost:8080/"
        }
      },
      "cell_type": "code",
      "source": [
        "variant_scores = variant_scores[0]\n",
        "variant_scores"
      ],
      "outputs": [
        {
          "output_type": "execute_result",
          "data": {
            "text/plain": [
              "AnnData object with n_obs × n_vars = 37 × 667\n",
              "    obs: 'gene_id', 'strand', 'gene_name', 'gene_type'\n",
              "    var: 'name', 'strand', 'Assay title', 'ontology_curie', 'biosample_name', 'biosample_type', 'biosample_life_stage', 'gtex_tissue', 'data_source', 'endedness', 'genetically_modified'\n",
              "    uns: 'interval', 'variant', 'variant_scorer'\n",
              "    layers: 'quantiles'"
            ]
          },
          "metadata": {},
          "execution_count": 35
        }
      ],
      "execution_count": 35
    },
    {
      "metadata": {
        "id": "2URPdQGtkYVu"
      },
      "cell_type": "markdown",
      "source": [
        "`AnnData` objects have the following components:"
      ]
    },
    {
      "metadata": {
        "id": "ssPveqJvkYVu"
      },
      "cell_type": "markdown",
      "source": [
        "<a href=\"https://services.google.com/fh/files/misc/anndata.png\"><img src=\"https://services.google.com/fh/files/misc/anndata.png\" alt=\"anndata\" border=\"0\" height=500></a>"
      ]
    },
    {
      "metadata": {
        "id": "X1u94SdOkYVu"
      },
      "cell_type": "markdown",
      "source": [
        "We have a variant effect score for each of the 37 genes in the interval and each of the 667 `RNA_SEQ` tracks:"
      ]
    },
    {
      "metadata": {
        "id": "eyv_SHT_kYVu",
        "outputId": "f3e2fd44-58b0-400d-b994-bf2912cf69bc",
        "colab": {
          "base_uri": "https://localhost:8080/"
        }
      },
      "cell_type": "code",
      "source": [
        "variant_scores.X.shape"
      ],
      "outputs": [
        {
          "output_type": "execute_result",
          "data": {
            "text/plain": [
              "(37, 667)"
            ]
          },
          "metadata": {},
          "execution_count": 36
        }
      ],
      "execution_count": 36
    },
    {
      "metadata": {
        "id": "-3cT3a6FkYVu"
      },
      "cell_type": "markdown",
      "source": [
        "We can access information on the 37 genes using `.obs`. Here are just first 5 genes:"
      ]
    },
    {
      "metadata": {
        "id": "AQBAsm2skYVu",
        "outputId": "06d7ab1d-1a9f-494c-a061-023ba113f2eb",
        "colab": {
          "base_uri": "https://localhost:8080/",
          "height": 206
        }
      },
      "cell_type": "code",
      "source": [
        "variant_scores.obs.head()"
      ],
      "outputs": [
        {
          "output_type": "execute_result",
          "data": {
            "text/plain": [
              "              gene_id strand gene_name       gene_type\n",
              "0  ENSG00000100320.24      -    RBFOX2  protein_coding\n",
              "1  ENSG00000100336.18      -     APOL4  protein_coding\n",
              "2  ENSG00000100342.22      +     APOL1  protein_coding\n",
              "3  ENSG00000100345.23      -      MYH9  protein_coding\n",
              "4  ENSG00000100348.10      -      TXN2  protein_coding"
            ],
            "text/html": [
              "\n",
              "  <div id=\"df-045d0e3a-5886-4ed3-b455-2c15e084057b\" class=\"colab-df-container\">\n",
              "    <div>\n",
              "<style scoped>\n",
              "    .dataframe tbody tr th:only-of-type {\n",
              "        vertical-align: middle;\n",
              "    }\n",
              "\n",
              "    .dataframe tbody tr th {\n",
              "        vertical-align: top;\n",
              "    }\n",
              "\n",
              "    .dataframe thead th {\n",
              "        text-align: right;\n",
              "    }\n",
              "</style>\n",
              "<table border=\"1\" class=\"dataframe\">\n",
              "  <thead>\n",
              "    <tr style=\"text-align: right;\">\n",
              "      <th></th>\n",
              "      <th>gene_id</th>\n",
              "      <th>strand</th>\n",
              "      <th>gene_name</th>\n",
              "      <th>gene_type</th>\n",
              "    </tr>\n",
              "  </thead>\n",
              "  <tbody>\n",
              "    <tr>\n",
              "      <th>0</th>\n",
              "      <td>ENSG00000100320.24</td>\n",
              "      <td>-</td>\n",
              "      <td>RBFOX2</td>\n",
              "      <td>protein_coding</td>\n",
              "    </tr>\n",
              "    <tr>\n",
              "      <th>1</th>\n",
              "      <td>ENSG00000100336.18</td>\n",
              "      <td>-</td>\n",
              "      <td>APOL4</td>\n",
              "      <td>protein_coding</td>\n",
              "    </tr>\n",
              "    <tr>\n",
              "      <th>2</th>\n",
              "      <td>ENSG00000100342.22</td>\n",
              "      <td>+</td>\n",
              "      <td>APOL1</td>\n",
              "      <td>protein_coding</td>\n",
              "    </tr>\n",
              "    <tr>\n",
              "      <th>3</th>\n",
              "      <td>ENSG00000100345.23</td>\n",
              "      <td>-</td>\n",
              "      <td>MYH9</td>\n",
              "      <td>protein_coding</td>\n",
              "    </tr>\n",
              "    <tr>\n",
              "      <th>4</th>\n",
              "      <td>ENSG00000100348.10</td>\n",
              "      <td>-</td>\n",
              "      <td>TXN2</td>\n",
              "      <td>protein_coding</td>\n",
              "    </tr>\n",
              "  </tbody>\n",
              "</table>\n",
              "</div>\n",
              "    <div class=\"colab-df-buttons\">\n",
              "\n",
              "  <div class=\"colab-df-container\">\n",
              "    <button class=\"colab-df-convert\" onclick=\"convertToInteractive('df-045d0e3a-5886-4ed3-b455-2c15e084057b')\"\n",
              "            title=\"Convert this dataframe to an interactive table.\"\n",
              "            style=\"display:none;\">\n",
              "\n",
              "  <svg xmlns=\"http://www.w3.org/2000/svg\" height=\"24px\" viewBox=\"0 -960 960 960\">\n",
              "    <path d=\"M120-120v-720h720v720H120Zm60-500h600v-160H180v160Zm220 220h160v-160H400v160Zm0 220h160v-160H400v160ZM180-400h160v-160H180v160Zm440 0h160v-160H620v160ZM180-180h160v-160H180v160Zm440 0h160v-160H620v160Z\"/>\n",
              "  </svg>\n",
              "    </button>\n",
              "\n",
              "  <style>\n",
              "    .colab-df-container {\n",
              "      display:flex;\n",
              "      gap: 12px;\n",
              "    }\n",
              "\n",
              "    .colab-df-convert {\n",
              "      background-color: #E8F0FE;\n",
              "      border: none;\n",
              "      border-radius: 50%;\n",
              "      cursor: pointer;\n",
              "      display: none;\n",
              "      fill: #1967D2;\n",
              "      height: 32px;\n",
              "      padding: 0 0 0 0;\n",
              "      width: 32px;\n",
              "    }\n",
              "\n",
              "    .colab-df-convert:hover {\n",
              "      background-color: #E2EBFA;\n",
              "      box-shadow: 0px 1px 2px rgba(60, 64, 67, 0.3), 0px 1px 3px 1px rgba(60, 64, 67, 0.15);\n",
              "      fill: #174EA6;\n",
              "    }\n",
              "\n",
              "    .colab-df-buttons div {\n",
              "      margin-bottom: 4px;\n",
              "    }\n",
              "\n",
              "    [theme=dark] .colab-df-convert {\n",
              "      background-color: #3B4455;\n",
              "      fill: #D2E3FC;\n",
              "    }\n",
              "\n",
              "    [theme=dark] .colab-df-convert:hover {\n",
              "      background-color: #434B5C;\n",
              "      box-shadow: 0px 1px 3px 1px rgba(0, 0, 0, 0.15);\n",
              "      filter: drop-shadow(0px 1px 2px rgba(0, 0, 0, 0.3));\n",
              "      fill: #FFFFFF;\n",
              "    }\n",
              "  </style>\n",
              "\n",
              "    <script>\n",
              "      const buttonEl =\n",
              "        document.querySelector('#df-045d0e3a-5886-4ed3-b455-2c15e084057b button.colab-df-convert');\n",
              "      buttonEl.style.display =\n",
              "        google.colab.kernel.accessAllowed ? 'block' : 'none';\n",
              "\n",
              "      async function convertToInteractive(key) {\n",
              "        const element = document.querySelector('#df-045d0e3a-5886-4ed3-b455-2c15e084057b');\n",
              "        const dataTable =\n",
              "          await google.colab.kernel.invokeFunction('convertToInteractive',\n",
              "                                                    [key], {});\n",
              "        if (!dataTable) return;\n",
              "\n",
              "        const docLinkHtml = 'Like what you see? Visit the ' +\n",
              "          '<a target=\"_blank\" href=https://colab.research.google.com/notebooks/data_table.ipynb>data table notebook</a>'\n",
              "          + ' to learn more about interactive tables.';\n",
              "        element.innerHTML = '';\n",
              "        dataTable['output_type'] = 'display_data';\n",
              "        await google.colab.output.renderOutput(dataTable, element);\n",
              "        const docLink = document.createElement('div');\n",
              "        docLink.innerHTML = docLinkHtml;\n",
              "        element.appendChild(docLink);\n",
              "      }\n",
              "    </script>\n",
              "  </div>\n",
              "\n",
              "\n",
              "    <div id=\"df-f665080a-9dcf-4cca-8991-8c034eb9075f\">\n",
              "      <button class=\"colab-df-quickchart\" onclick=\"quickchart('df-f665080a-9dcf-4cca-8991-8c034eb9075f')\"\n",
              "                title=\"Suggest charts\"\n",
              "                style=\"display:none;\">\n",
              "\n",
              "<svg xmlns=\"http://www.w3.org/2000/svg\" height=\"24px\"viewBox=\"0 0 24 24\"\n",
              "     width=\"24px\">\n",
              "    <g>\n",
              "        <path d=\"M19 3H5c-1.1 0-2 .9-2 2v14c0 1.1.9 2 2 2h14c1.1 0 2-.9 2-2V5c0-1.1-.9-2-2-2zM9 17H7v-7h2v7zm4 0h-2V7h2v10zm4 0h-2v-4h2v4z\"/>\n",
              "    </g>\n",
              "</svg>\n",
              "      </button>\n",
              "\n",
              "<style>\n",
              "  .colab-df-quickchart {\n",
              "      --bg-color: #E8F0FE;\n",
              "      --fill-color: #1967D2;\n",
              "      --hover-bg-color: #E2EBFA;\n",
              "      --hover-fill-color: #174EA6;\n",
              "      --disabled-fill-color: #AAA;\n",
              "      --disabled-bg-color: #DDD;\n",
              "  }\n",
              "\n",
              "  [theme=dark] .colab-df-quickchart {\n",
              "      --bg-color: #3B4455;\n",
              "      --fill-color: #D2E3FC;\n",
              "      --hover-bg-color: #434B5C;\n",
              "      --hover-fill-color: #FFFFFF;\n",
              "      --disabled-bg-color: #3B4455;\n",
              "      --disabled-fill-color: #666;\n",
              "  }\n",
              "\n",
              "  .colab-df-quickchart {\n",
              "    background-color: var(--bg-color);\n",
              "    border: none;\n",
              "    border-radius: 50%;\n",
              "    cursor: pointer;\n",
              "    display: none;\n",
              "    fill: var(--fill-color);\n",
              "    height: 32px;\n",
              "    padding: 0;\n",
              "    width: 32px;\n",
              "  }\n",
              "\n",
              "  .colab-df-quickchart:hover {\n",
              "    background-color: var(--hover-bg-color);\n",
              "    box-shadow: 0 1px 2px rgba(60, 64, 67, 0.3), 0 1px 3px 1px rgba(60, 64, 67, 0.15);\n",
              "    fill: var(--button-hover-fill-color);\n",
              "  }\n",
              "\n",
              "  .colab-df-quickchart-complete:disabled,\n",
              "  .colab-df-quickchart-complete:disabled:hover {\n",
              "    background-color: var(--disabled-bg-color);\n",
              "    fill: var(--disabled-fill-color);\n",
              "    box-shadow: none;\n",
              "  }\n",
              "\n",
              "  .colab-df-spinner {\n",
              "    border: 2px solid var(--fill-color);\n",
              "    border-color: transparent;\n",
              "    border-bottom-color: var(--fill-color);\n",
              "    animation:\n",
              "      spin 1s steps(1) infinite;\n",
              "  }\n",
              "\n",
              "  @keyframes spin {\n",
              "    0% {\n",
              "      border-color: transparent;\n",
              "      border-bottom-color: var(--fill-color);\n",
              "      border-left-color: var(--fill-color);\n",
              "    }\n",
              "    20% {\n",
              "      border-color: transparent;\n",
              "      border-left-color: var(--fill-color);\n",
              "      border-top-color: var(--fill-color);\n",
              "    }\n",
              "    30% {\n",
              "      border-color: transparent;\n",
              "      border-left-color: var(--fill-color);\n",
              "      border-top-color: var(--fill-color);\n",
              "      border-right-color: var(--fill-color);\n",
              "    }\n",
              "    40% {\n",
              "      border-color: transparent;\n",
              "      border-right-color: var(--fill-color);\n",
              "      border-top-color: var(--fill-color);\n",
              "    }\n",
              "    60% {\n",
              "      border-color: transparent;\n",
              "      border-right-color: var(--fill-color);\n",
              "    }\n",
              "    80% {\n",
              "      border-color: transparent;\n",
              "      border-right-color: var(--fill-color);\n",
              "      border-bottom-color: var(--fill-color);\n",
              "    }\n",
              "    90% {\n",
              "      border-color: transparent;\n",
              "      border-bottom-color: var(--fill-color);\n",
              "    }\n",
              "  }\n",
              "</style>\n",
              "\n",
              "      <script>\n",
              "        async function quickchart(key) {\n",
              "          const quickchartButtonEl =\n",
              "            document.querySelector('#' + key + ' button');\n",
              "          quickchartButtonEl.disabled = true;  // To prevent multiple clicks.\n",
              "          quickchartButtonEl.classList.add('colab-df-spinner');\n",
              "          try {\n",
              "            const charts = await google.colab.kernel.invokeFunction(\n",
              "                'suggestCharts', [key], {});\n",
              "          } catch (error) {\n",
              "            console.error('Error during call to suggestCharts:', error);\n",
              "          }\n",
              "          quickchartButtonEl.classList.remove('colab-df-spinner');\n",
              "          quickchartButtonEl.classList.add('colab-df-quickchart-complete');\n",
              "        }\n",
              "        (() => {\n",
              "          let quickchartButtonEl =\n",
              "            document.querySelector('#df-f665080a-9dcf-4cca-8991-8c034eb9075f button');\n",
              "          quickchartButtonEl.style.display =\n",
              "            google.colab.kernel.accessAllowed ? 'block' : 'none';\n",
              "        })();\n",
              "      </script>\n",
              "    </div>\n",
              "\n",
              "    </div>\n",
              "  </div>\n"
            ],
            "application/vnd.google.colaboratory.intrinsic+json": {
              "type": "dataframe",
              "summary": "{\n  \"name\": \"variant_scores\",\n  \"rows\": 5,\n  \"fields\": [\n    {\n      \"column\": \"gene_id\",\n      \"properties\": {\n        \"dtype\": \"string\",\n        \"num_unique_values\": 5,\n        \"samples\": [\n          \"ENSG00000100336.18\",\n          \"ENSG00000100348.10\",\n          \"ENSG00000100342.22\"\n        ],\n        \"semantic_type\": \"\",\n        \"description\": \"\"\n      }\n    },\n    {\n      \"column\": \"strand\",\n      \"properties\": {\n        \"dtype\": \"category\",\n        \"num_unique_values\": 2,\n        \"samples\": [\n          \"+\",\n          \"-\"\n        ],\n        \"semantic_type\": \"\",\n        \"description\": \"\"\n      }\n    },\n    {\n      \"column\": \"gene_name\",\n      \"properties\": {\n        \"dtype\": \"string\",\n        \"num_unique_values\": 5,\n        \"samples\": [\n          \"APOL4\",\n          \"TXN2\"\n        ],\n        \"semantic_type\": \"\",\n        \"description\": \"\"\n      }\n    },\n    {\n      \"column\": \"gene_type\",\n      \"properties\": {\n        \"dtype\": \"category\",\n        \"num_unique_values\": 1,\n        \"samples\": [\n          \"protein_coding\"\n        ],\n        \"semantic_type\": \"\",\n        \"description\": \"\"\n      }\n    }\n  ]\n}"
            }
          },
          "metadata": {},
          "execution_count": 37
        }
      ],
      "execution_count": 37
    },
    {
      "metadata": {
        "id": "p6mVhremkYVu"
      },
      "cell_type": "markdown",
      "source": [
        "Note that if you are using a variant scorer that is not gene-specific (i.e., a `variant_scorers.CenterMaskScorer`), then `variant_scores.X` would have shape `(1, 667)` and there will be no gene metadata available since there is no concept of genes in this scenario.\n",
        "\n",
        "The description of each track is accessed using `.var` (this is the same dataframe as the output metadata, but is included alongside the variant scores for convenience):"
      ]
    },
    {
      "metadata": {
        "id": "J_VRdJMakYVu",
        "outputId": "33c45f3c-ce75-4aeb-d5f6-9817778f4259",
        "colab": {
          "base_uri": "https://localhost:8080/",
          "height": 545
        }
      },
      "cell_type": "code",
      "source": [
        "variant_scores.var"
      ],
      "outputs": [
        {
          "output_type": "execute_result",
          "data": {
            "text/plain": [
              "                                                  name strand  \\\n",
              "0                        CL:0000047 polyA plus RNA-seq      +   \n",
              "1                             CL:0000062 total RNA-seq      +   \n",
              "2                        CL:0000084 polyA plus RNA-seq      +   \n",
              "3                             CL:0000084 total RNA-seq      +   \n",
              "4                             CL:0000115 total RNA-seq      +   \n",
              "..                                                 ...    ...   \n",
              "662                  UBERON:0018115 polyA plus RNA-seq      .   \n",
              "663                  UBERON:0018116 polyA plus RNA-seq      .   \n",
              "664                  UBERON:0018117 polyA plus RNA-seq      .   \n",
              "665                  UBERON:0018118 polyA plus RNA-seq      .   \n",
              "666  UBERON:0036149 gtex Skin_Not_Sun_Exposed_Supra...      .   \n",
              "\n",
              "            Assay title  ontology_curie                   biosample_name  \\\n",
              "0    polyA plus RNA-seq      CL:0000047               neuronal stem cell   \n",
              "1         total RNA-seq      CL:0000062                       osteoblast   \n",
              "2    polyA plus RNA-seq      CL:0000084                           T-cell   \n",
              "3         total RNA-seq      CL:0000084                           T-cell   \n",
              "4         total RNA-seq      CL:0000115                 endothelial cell   \n",
              "..                  ...             ...                              ...   \n",
              "662  polyA plus RNA-seq  UBERON:0018115                left renal pelvis   \n",
              "663  polyA plus RNA-seq  UBERON:0018116               right renal pelvis   \n",
              "664  polyA plus RNA-seq  UBERON:0018117   left renal cortex interstitium   \n",
              "665  polyA plus RNA-seq  UBERON:0018118  right renal cortex interstitium   \n",
              "666  polyA plus RNA-seq  UBERON:0036149                  suprapubic skin   \n",
              "\n",
              "                    biosample_type biosample_life_stage  \\\n",
              "0    in_vitro_differentiated_cells            embryonic   \n",
              "1                     primary_cell                adult   \n",
              "2                     primary_cell                adult   \n",
              "3                     primary_cell                adult   \n",
              "4    in_vitro_differentiated_cells                adult   \n",
              "..                             ...                  ...   \n",
              "662                         tissue            embryonic   \n",
              "663                         tissue            embryonic   \n",
              "664                         tissue            embryonic   \n",
              "665                         tissue            embryonic   \n",
              "666                         tissue                adult   \n",
              "\n",
              "                         gtex_tissue data_source endedness  \\\n",
              "0                                         encode    paired   \n",
              "1                                         encode    paired   \n",
              "2                                         encode    paired   \n",
              "3                                         encode    single   \n",
              "4                                         encode    single   \n",
              "..                               ...         ...       ...   \n",
              "662                                       encode    single   \n",
              "663                                       encode    single   \n",
              "664                                       encode    single   \n",
              "665                                       encode    single   \n",
              "666  Skin_Not_Sun_Exposed_Suprapubic        gtex    paired   \n",
              "\n",
              "     genetically_modified  \n",
              "0                   False  \n",
              "1                   False  \n",
              "2                   False  \n",
              "3                   False  \n",
              "4                   False  \n",
              "..                    ...  \n",
              "662                 False  \n",
              "663                 False  \n",
              "664                 False  \n",
              "665                 False  \n",
              "666                 False  \n",
              "\n",
              "[667 rows x 11 columns]"
            ],
            "text/html": [
              "\n",
              "  <div id=\"df-5939258f-471e-49fa-a803-8fc964102088\" class=\"colab-df-container\">\n",
              "    <div>\n",
              "<style scoped>\n",
              "    .dataframe tbody tr th:only-of-type {\n",
              "        vertical-align: middle;\n",
              "    }\n",
              "\n",
              "    .dataframe tbody tr th {\n",
              "        vertical-align: top;\n",
              "    }\n",
              "\n",
              "    .dataframe thead th {\n",
              "        text-align: right;\n",
              "    }\n",
              "</style>\n",
              "<table border=\"1\" class=\"dataframe\">\n",
              "  <thead>\n",
              "    <tr style=\"text-align: right;\">\n",
              "      <th></th>\n",
              "      <th>name</th>\n",
              "      <th>strand</th>\n",
              "      <th>Assay title</th>\n",
              "      <th>ontology_curie</th>\n",
              "      <th>biosample_name</th>\n",
              "      <th>biosample_type</th>\n",
              "      <th>biosample_life_stage</th>\n",
              "      <th>gtex_tissue</th>\n",
              "      <th>data_source</th>\n",
              "      <th>endedness</th>\n",
              "      <th>genetically_modified</th>\n",
              "    </tr>\n",
              "  </thead>\n",
              "  <tbody>\n",
              "    <tr>\n",
              "      <th>0</th>\n",
              "      <td>CL:0000047 polyA plus RNA-seq</td>\n",
              "      <td>+</td>\n",
              "      <td>polyA plus RNA-seq</td>\n",
              "      <td>CL:0000047</td>\n",
              "      <td>neuronal stem cell</td>\n",
              "      <td>in_vitro_differentiated_cells</td>\n",
              "      <td>embryonic</td>\n",
              "      <td></td>\n",
              "      <td>encode</td>\n",
              "      <td>paired</td>\n",
              "      <td>False</td>\n",
              "    </tr>\n",
              "    <tr>\n",
              "      <th>1</th>\n",
              "      <td>CL:0000062 total RNA-seq</td>\n",
              "      <td>+</td>\n",
              "      <td>total RNA-seq</td>\n",
              "      <td>CL:0000062</td>\n",
              "      <td>osteoblast</td>\n",
              "      <td>primary_cell</td>\n",
              "      <td>adult</td>\n",
              "      <td></td>\n",
              "      <td>encode</td>\n",
              "      <td>paired</td>\n",
              "      <td>False</td>\n",
              "    </tr>\n",
              "    <tr>\n",
              "      <th>2</th>\n",
              "      <td>CL:0000084 polyA plus RNA-seq</td>\n",
              "      <td>+</td>\n",
              "      <td>polyA plus RNA-seq</td>\n",
              "      <td>CL:0000084</td>\n",
              "      <td>T-cell</td>\n",
              "      <td>primary_cell</td>\n",
              "      <td>adult</td>\n",
              "      <td></td>\n",
              "      <td>encode</td>\n",
              "      <td>paired</td>\n",
              "      <td>False</td>\n",
              "    </tr>\n",
              "    <tr>\n",
              "      <th>3</th>\n",
              "      <td>CL:0000084 total RNA-seq</td>\n",
              "      <td>+</td>\n",
              "      <td>total RNA-seq</td>\n",
              "      <td>CL:0000084</td>\n",
              "      <td>T-cell</td>\n",
              "      <td>primary_cell</td>\n",
              "      <td>adult</td>\n",
              "      <td></td>\n",
              "      <td>encode</td>\n",
              "      <td>single</td>\n",
              "      <td>False</td>\n",
              "    </tr>\n",
              "    <tr>\n",
              "      <th>4</th>\n",
              "      <td>CL:0000115 total RNA-seq</td>\n",
              "      <td>+</td>\n",
              "      <td>total RNA-seq</td>\n",
              "      <td>CL:0000115</td>\n",
              "      <td>endothelial cell</td>\n",
              "      <td>in_vitro_differentiated_cells</td>\n",
              "      <td>adult</td>\n",
              "      <td></td>\n",
              "      <td>encode</td>\n",
              "      <td>single</td>\n",
              "      <td>False</td>\n",
              "    </tr>\n",
              "    <tr>\n",
              "      <th>...</th>\n",
              "      <td>...</td>\n",
              "      <td>...</td>\n",
              "      <td>...</td>\n",
              "      <td>...</td>\n",
              "      <td>...</td>\n",
              "      <td>...</td>\n",
              "      <td>...</td>\n",
              "      <td>...</td>\n",
              "      <td>...</td>\n",
              "      <td>...</td>\n",
              "      <td>...</td>\n",
              "    </tr>\n",
              "    <tr>\n",
              "      <th>662</th>\n",
              "      <td>UBERON:0018115 polyA plus RNA-seq</td>\n",
              "      <td>.</td>\n",
              "      <td>polyA plus RNA-seq</td>\n",
              "      <td>UBERON:0018115</td>\n",
              "      <td>left renal pelvis</td>\n",
              "      <td>tissue</td>\n",
              "      <td>embryonic</td>\n",
              "      <td></td>\n",
              "      <td>encode</td>\n",
              "      <td>single</td>\n",
              "      <td>False</td>\n",
              "    </tr>\n",
              "    <tr>\n",
              "      <th>663</th>\n",
              "      <td>UBERON:0018116 polyA plus RNA-seq</td>\n",
              "      <td>.</td>\n",
              "      <td>polyA plus RNA-seq</td>\n",
              "      <td>UBERON:0018116</td>\n",
              "      <td>right renal pelvis</td>\n",
              "      <td>tissue</td>\n",
              "      <td>embryonic</td>\n",
              "      <td></td>\n",
              "      <td>encode</td>\n",
              "      <td>single</td>\n",
              "      <td>False</td>\n",
              "    </tr>\n",
              "    <tr>\n",
              "      <th>664</th>\n",
              "      <td>UBERON:0018117 polyA plus RNA-seq</td>\n",
              "      <td>.</td>\n",
              "      <td>polyA plus RNA-seq</td>\n",
              "      <td>UBERON:0018117</td>\n",
              "      <td>left renal cortex interstitium</td>\n",
              "      <td>tissue</td>\n",
              "      <td>embryonic</td>\n",
              "      <td></td>\n",
              "      <td>encode</td>\n",
              "      <td>single</td>\n",
              "      <td>False</td>\n",
              "    </tr>\n",
              "    <tr>\n",
              "      <th>665</th>\n",
              "      <td>UBERON:0018118 polyA plus RNA-seq</td>\n",
              "      <td>.</td>\n",
              "      <td>polyA plus RNA-seq</td>\n",
              "      <td>UBERON:0018118</td>\n",
              "      <td>right renal cortex interstitium</td>\n",
              "      <td>tissue</td>\n",
              "      <td>embryonic</td>\n",
              "      <td></td>\n",
              "      <td>encode</td>\n",
              "      <td>single</td>\n",
              "      <td>False</td>\n",
              "    </tr>\n",
              "    <tr>\n",
              "      <th>666</th>\n",
              "      <td>UBERON:0036149 gtex Skin_Not_Sun_Exposed_Supra...</td>\n",
              "      <td>.</td>\n",
              "      <td>polyA plus RNA-seq</td>\n",
              "      <td>UBERON:0036149</td>\n",
              "      <td>suprapubic skin</td>\n",
              "      <td>tissue</td>\n",
              "      <td>adult</td>\n",
              "      <td>Skin_Not_Sun_Exposed_Suprapubic</td>\n",
              "      <td>gtex</td>\n",
              "      <td>paired</td>\n",
              "      <td>False</td>\n",
              "    </tr>\n",
              "  </tbody>\n",
              "</table>\n",
              "<p>667 rows × 11 columns</p>\n",
              "</div>\n",
              "    <div class=\"colab-df-buttons\">\n",
              "\n",
              "  <div class=\"colab-df-container\">\n",
              "    <button class=\"colab-df-convert\" onclick=\"convertToInteractive('df-5939258f-471e-49fa-a803-8fc964102088')\"\n",
              "            title=\"Convert this dataframe to an interactive table.\"\n",
              "            style=\"display:none;\">\n",
              "\n",
              "  <svg xmlns=\"http://www.w3.org/2000/svg\" height=\"24px\" viewBox=\"0 -960 960 960\">\n",
              "    <path d=\"M120-120v-720h720v720H120Zm60-500h600v-160H180v160Zm220 220h160v-160H400v160Zm0 220h160v-160H400v160ZM180-400h160v-160H180v160Zm440 0h160v-160H620v160ZM180-180h160v-160H180v160Zm440 0h160v-160H620v160Z\"/>\n",
              "  </svg>\n",
              "    </button>\n",
              "\n",
              "  <style>\n",
              "    .colab-df-container {\n",
              "      display:flex;\n",
              "      gap: 12px;\n",
              "    }\n",
              "\n",
              "    .colab-df-convert {\n",
              "      background-color: #E8F0FE;\n",
              "      border: none;\n",
              "      border-radius: 50%;\n",
              "      cursor: pointer;\n",
              "      display: none;\n",
              "      fill: #1967D2;\n",
              "      height: 32px;\n",
              "      padding: 0 0 0 0;\n",
              "      width: 32px;\n",
              "    }\n",
              "\n",
              "    .colab-df-convert:hover {\n",
              "      background-color: #E2EBFA;\n",
              "      box-shadow: 0px 1px 2px rgba(60, 64, 67, 0.3), 0px 1px 3px 1px rgba(60, 64, 67, 0.15);\n",
              "      fill: #174EA6;\n",
              "    }\n",
              "\n",
              "    .colab-df-buttons div {\n",
              "      margin-bottom: 4px;\n",
              "    }\n",
              "\n",
              "    [theme=dark] .colab-df-convert {\n",
              "      background-color: #3B4455;\n",
              "      fill: #D2E3FC;\n",
              "    }\n",
              "\n",
              "    [theme=dark] .colab-df-convert:hover {\n",
              "      background-color: #434B5C;\n",
              "      box-shadow: 0px 1px 3px 1px rgba(0, 0, 0, 0.15);\n",
              "      filter: drop-shadow(0px 1px 2px rgba(0, 0, 0, 0.3));\n",
              "      fill: #FFFFFF;\n",
              "    }\n",
              "  </style>\n",
              "\n",
              "    <script>\n",
              "      const buttonEl =\n",
              "        document.querySelector('#df-5939258f-471e-49fa-a803-8fc964102088 button.colab-df-convert');\n",
              "      buttonEl.style.display =\n",
              "        google.colab.kernel.accessAllowed ? 'block' : 'none';\n",
              "\n",
              "      async function convertToInteractive(key) {\n",
              "        const element = document.querySelector('#df-5939258f-471e-49fa-a803-8fc964102088');\n",
              "        const dataTable =\n",
              "          await google.colab.kernel.invokeFunction('convertToInteractive',\n",
              "                                                    [key], {});\n",
              "        if (!dataTable) return;\n",
              "\n",
              "        const docLinkHtml = 'Like what you see? Visit the ' +\n",
              "          '<a target=\"_blank\" href=https://colab.research.google.com/notebooks/data_table.ipynb>data table notebook</a>'\n",
              "          + ' to learn more about interactive tables.';\n",
              "        element.innerHTML = '';\n",
              "        dataTable['output_type'] = 'display_data';\n",
              "        await google.colab.output.renderOutput(dataTable, element);\n",
              "        const docLink = document.createElement('div');\n",
              "        docLink.innerHTML = docLinkHtml;\n",
              "        element.appendChild(docLink);\n",
              "      }\n",
              "    </script>\n",
              "  </div>\n",
              "\n",
              "\n",
              "    <div id=\"df-4eda8ad6-62d9-46e2-af92-2c5d2881fde0\">\n",
              "      <button class=\"colab-df-quickchart\" onclick=\"quickchart('df-4eda8ad6-62d9-46e2-af92-2c5d2881fde0')\"\n",
              "                title=\"Suggest charts\"\n",
              "                style=\"display:none;\">\n",
              "\n",
              "<svg xmlns=\"http://www.w3.org/2000/svg\" height=\"24px\"viewBox=\"0 0 24 24\"\n",
              "     width=\"24px\">\n",
              "    <g>\n",
              "        <path d=\"M19 3H5c-1.1 0-2 .9-2 2v14c0 1.1.9 2 2 2h14c1.1 0 2-.9 2-2V5c0-1.1-.9-2-2-2zM9 17H7v-7h2v7zm4 0h-2V7h2v10zm4 0h-2v-4h2v4z\"/>\n",
              "    </g>\n",
              "</svg>\n",
              "      </button>\n",
              "\n",
              "<style>\n",
              "  .colab-df-quickchart {\n",
              "      --bg-color: #E8F0FE;\n",
              "      --fill-color: #1967D2;\n",
              "      --hover-bg-color: #E2EBFA;\n",
              "      --hover-fill-color: #174EA6;\n",
              "      --disabled-fill-color: #AAA;\n",
              "      --disabled-bg-color: #DDD;\n",
              "  }\n",
              "\n",
              "  [theme=dark] .colab-df-quickchart {\n",
              "      --bg-color: #3B4455;\n",
              "      --fill-color: #D2E3FC;\n",
              "      --hover-bg-color: #434B5C;\n",
              "      --hover-fill-color: #FFFFFF;\n",
              "      --disabled-bg-color: #3B4455;\n",
              "      --disabled-fill-color: #666;\n",
              "  }\n",
              "\n",
              "  .colab-df-quickchart {\n",
              "    background-color: var(--bg-color);\n",
              "    border: none;\n",
              "    border-radius: 50%;\n",
              "    cursor: pointer;\n",
              "    display: none;\n",
              "    fill: var(--fill-color);\n",
              "    height: 32px;\n",
              "    padding: 0;\n",
              "    width: 32px;\n",
              "  }\n",
              "\n",
              "  .colab-df-quickchart:hover {\n",
              "    background-color: var(--hover-bg-color);\n",
              "    box-shadow: 0 1px 2px rgba(60, 64, 67, 0.3), 0 1px 3px 1px rgba(60, 64, 67, 0.15);\n",
              "    fill: var(--button-hover-fill-color);\n",
              "  }\n",
              "\n",
              "  .colab-df-quickchart-complete:disabled,\n",
              "  .colab-df-quickchart-complete:disabled:hover {\n",
              "    background-color: var(--disabled-bg-color);\n",
              "    fill: var(--disabled-fill-color);\n",
              "    box-shadow: none;\n",
              "  }\n",
              "\n",
              "  .colab-df-spinner {\n",
              "    border: 2px solid var(--fill-color);\n",
              "    border-color: transparent;\n",
              "    border-bottom-color: var(--fill-color);\n",
              "    animation:\n",
              "      spin 1s steps(1) infinite;\n",
              "  }\n",
              "\n",
              "  @keyframes spin {\n",
              "    0% {\n",
              "      border-color: transparent;\n",
              "      border-bottom-color: var(--fill-color);\n",
              "      border-left-color: var(--fill-color);\n",
              "    }\n",
              "    20% {\n",
              "      border-color: transparent;\n",
              "      border-left-color: var(--fill-color);\n",
              "      border-top-color: var(--fill-color);\n",
              "    }\n",
              "    30% {\n",
              "      border-color: transparent;\n",
              "      border-left-color: var(--fill-color);\n",
              "      border-top-color: var(--fill-color);\n",
              "      border-right-color: var(--fill-color);\n",
              "    }\n",
              "    40% {\n",
              "      border-color: transparent;\n",
              "      border-right-color: var(--fill-color);\n",
              "      border-top-color: var(--fill-color);\n",
              "    }\n",
              "    60% {\n",
              "      border-color: transparent;\n",
              "      border-right-color: var(--fill-color);\n",
              "    }\n",
              "    80% {\n",
              "      border-color: transparent;\n",
              "      border-right-color: var(--fill-color);\n",
              "      border-bottom-color: var(--fill-color);\n",
              "    }\n",
              "    90% {\n",
              "      border-color: transparent;\n",
              "      border-bottom-color: var(--fill-color);\n",
              "    }\n",
              "  }\n",
              "</style>\n",
              "\n",
              "      <script>\n",
              "        async function quickchart(key) {\n",
              "          const quickchartButtonEl =\n",
              "            document.querySelector('#' + key + ' button');\n",
              "          quickchartButtonEl.disabled = true;  // To prevent multiple clicks.\n",
              "          quickchartButtonEl.classList.add('colab-df-spinner');\n",
              "          try {\n",
              "            const charts = await google.colab.kernel.invokeFunction(\n",
              "                'suggestCharts', [key], {});\n",
              "          } catch (error) {\n",
              "            console.error('Error during call to suggestCharts:', error);\n",
              "          }\n",
              "          quickchartButtonEl.classList.remove('colab-df-spinner');\n",
              "          quickchartButtonEl.classList.add('colab-df-quickchart-complete');\n",
              "        }\n",
              "        (() => {\n",
              "          let quickchartButtonEl =\n",
              "            document.querySelector('#df-4eda8ad6-62d9-46e2-af92-2c5d2881fde0 button');\n",
              "          quickchartButtonEl.style.display =\n",
              "            google.colab.kernel.accessAllowed ? 'block' : 'none';\n",
              "        })();\n",
              "      </script>\n",
              "    </div>\n",
              "\n",
              "    </div>\n",
              "  </div>\n"
            ],
            "application/vnd.google.colaboratory.intrinsic+json": {
              "type": "dataframe",
              "summary": "{\n  \"name\": \"variant_scores\",\n  \"rows\": 667,\n  \"fields\": [\n    {\n      \"column\": \"name\",\n      \"properties\": {\n        \"dtype\": \"string\",\n        \"num_unique_values\": 371,\n        \"samples\": [\n          \"UBERON:0001873 gtex Brain_Caudate_basal_ganglia polyA plus RNA-seq\",\n          \"CL:0000792 total RNA-seq\",\n          \"CL:0000223 polyA plus RNA-seq\"\n        ],\n        \"semantic_type\": \"\",\n        \"description\": \"\"\n      }\n    },\n    {\n      \"column\": \"strand\",\n      \"properties\": {\n        \"dtype\": \"category\",\n        \"num_unique_values\": 3,\n        \"samples\": [\n          \"+\",\n          \"-\",\n          \".\"\n        ],\n        \"semantic_type\": \"\",\n        \"description\": \"\"\n      }\n    },\n    {\n      \"column\": \"Assay title\",\n      \"properties\": {\n        \"dtype\": \"category\",\n        \"num_unique_values\": 2,\n        \"samples\": [\n          \"total RNA-seq\",\n          \"polyA plus RNA-seq\"\n        ],\n        \"semantic_type\": \"\",\n        \"description\": \"\"\n      }\n    },\n    {\n      \"column\": \"ontology_curie\",\n      \"properties\": {\n        \"dtype\": \"category\",\n        \"num_unique_values\": 285,\n        \"samples\": [\n          \"CL:0000182\",\n          \"NTR:0000524\"\n        ],\n        \"semantic_type\": \"\",\n        \"description\": \"\"\n      }\n    },\n    {\n      \"column\": \"biosample_name\",\n      \"properties\": {\n        \"dtype\": \"category\",\n        \"num_unique_values\": 285,\n        \"samples\": [\n          \"hepatocyte\",\n          \"fibroblast of skin of scalp\"\n        ],\n        \"semantic_type\": \"\",\n        \"description\": \"\"\n      }\n    },\n    {\n      \"column\": \"biosample_type\",\n      \"properties\": {\n        \"dtype\": \"category\",\n        \"num_unique_values\": 4,\n        \"samples\": [\n          \"primary_cell\",\n          \"tissue\"\n        ],\n        \"semantic_type\": \"\",\n        \"description\": \"\"\n      }\n    },\n    {\n      \"column\": \"biosample_life_stage\",\n      \"properties\": {\n        \"dtype\": \"category\",\n        \"num_unique_values\": 10,\n        \"samples\": [\n          \"adult,unknown\",\n          \"adult\"\n        ],\n        \"semantic_type\": \"\",\n        \"description\": \"\"\n      }\n    },\n    {\n      \"column\": \"gtex_tissue\",\n      \"properties\": {\n        \"dtype\": \"category\",\n        \"num_unique_values\": 55,\n        \"samples\": [\n          \"Spleen\",\n          \"Testis\"\n        ],\n        \"semantic_type\": \"\",\n        \"description\": \"\"\n      }\n    },\n    {\n      \"column\": \"data_source\",\n      \"properties\": {\n        \"dtype\": \"category\",\n        \"num_unique_values\": 2,\n        \"samples\": [\n          \"gtex\",\n          \"encode\"\n        ],\n        \"semantic_type\": \"\",\n        \"description\": \"\"\n      }\n    },\n    {\n      \"column\": \"endedness\",\n      \"properties\": {\n        \"dtype\": \"category\",\n        \"num_unique_values\": 2,\n        \"samples\": [\n          \"single\",\n          \"paired\"\n        ],\n        \"semantic_type\": \"\",\n        \"description\": \"\"\n      }\n    },\n    {\n      \"column\": \"genetically_modified\",\n      \"properties\": {\n        \"dtype\": \"boolean\",\n        \"num_unique_values\": 1,\n        \"samples\": [\n          false\n        ],\n        \"semantic_type\": \"\",\n        \"description\": \"\"\n      }\n    }\n  ]\n}"
            }
          },
          "metadata": {},
          "execution_count": 38
        }
      ],
      "execution_count": 38
    },
    {
      "metadata": {
        "id": "rrbvEe4xkYVu"
      },
      "cell_type": "markdown",
      "source": [
        "Some handy additional metadata can be found in `.uns`:"
      ]
    },
    {
      "metadata": {
        "id": "n3GGvosdkYVu",
        "outputId": "92eef708-9f26-4d27-b3d0-478354907b60",
        "colab": {
          "base_uri": "https://localhost:8080/"
        }
      },
      "cell_type": "code",
      "source": [
        "print(f'Interval: {variant_scores.uns[\"interval\"]}')\n",
        "print(f'Variant: {variant_scores.uns[\"variant\"]}')\n",
        "print(f'Variant scorer: {variant_scores.uns[\"variant_scorer\"]}')"
      ],
      "outputs": [
        {
          "output_type": "stream",
          "name": "stdout",
          "text": [
            "Interval: chr22:35677410-36725986:.\n",
            "Variant: chr22:36201698:A>C\n",
            "Variant scorer: GeneMaskLFCScorer(requested_output=RNA_SEQ)\n"
          ]
        }
      ],
      "execution_count": 39
    },
    {
      "metadata": {
        "id": "B0WK-6IpkYVu"
      },
      "cell_type": "markdown",
      "source": [
        "We recommend interacting with variant scores by flattening `AnnData` objects using `tidy_scores`, which produces a dataframe with each row being a single score for each combination of (variant, gene, scorer, ontology). It optionally excludes stranded tracks which do not match the gene’s strand for gene-specific scorer.\n",
        "\n",
        "The `raw_score` column contains the same values as stored in `variant_scores.X`. The `quantile_score` column is the rank of the `raw_score` in the distribution of scores for a background set of common variants, represented as a quantile probability. This allows for direct comparison across variant scoring strategies that yield scores on different scales. See [FAQs](https://www.alphagenomedocs.com/faqs.html#what-is-the-difference-between-a-quantile-score-and-raw-score) for further details."
      ]
    },
    {
      "metadata": {
        "colab": {
          "height": 929,
          "base_uri": "https://localhost:8080/"
        },
        "id": "cVG5ApfkkYVu",
        "outputId": "ab57379d-6851-40bb-fdc9-d8d824f8c717"
      },
      "cell_type": "code",
      "source": [
        "\n",
        "variant_scorers.tidy_scores([variant_scores], match_gene_strand=True)"
      ],
      "outputs": [
        {
          "output_type": "execute_result",
          "data": {
            "text/plain": [
              "               variant_id            scored_interval          gene_id  \\\n",
              "0      chr22:36201698:A>C  chr22:35677410-36725986:.  ENSG00000100320   \n",
              "1      chr22:36201698:A>C  chr22:35677410-36725986:.  ENSG00000100320   \n",
              "2      chr22:36201698:A>C  chr22:35677410-36725986:.  ENSG00000100320   \n",
              "3      chr22:36201698:A>C  chr22:35677410-36725986:.  ENSG00000100320   \n",
              "4      chr22:36201698:A>C  chr22:35677410-36725986:.  ENSG00000100320   \n",
              "...                   ...                        ...              ...   \n",
              "14647  chr22:36201698:A>C  chr22:35677410-36725986:.  ENSG00000293594   \n",
              "14648  chr22:36201698:A>C  chr22:35677410-36725986:.  ENSG00000293594   \n",
              "14649  chr22:36201698:A>C  chr22:35677410-36725986:.  ENSG00000293594   \n",
              "14650  chr22:36201698:A>C  chr22:35677410-36725986:.  ENSG00000293594   \n",
              "14651  chr22:36201698:A>C  chr22:35677410-36725986:.  ENSG00000293594   \n",
              "\n",
              "             gene_name             gene_type gene_strand junction_Start  \\\n",
              "0               RBFOX2        protein_coding           -           None   \n",
              "1               RBFOX2        protein_coding           -           None   \n",
              "2               RBFOX2        protein_coding           -           None   \n",
              "3               RBFOX2        protein_coding           -           None   \n",
              "4               RBFOX2        protein_coding           -           None   \n",
              "...                ...                   ...         ...            ...   \n",
              "14647  ENSG00000293594  processed_pseudogene           -           None   \n",
              "14648  ENSG00000293594  processed_pseudogene           -           None   \n",
              "14649  ENSG00000293594  processed_pseudogene           -           None   \n",
              "14650  ENSG00000293594  processed_pseudogene           -           None   \n",
              "14651  ENSG00000293594  processed_pseudogene           -           None   \n",
              "\n",
              "      junction_End output_type                               variant_scorer  \\\n",
              "0             None     RNA_SEQ  GeneMaskLFCScorer(requested_output=RNA_SEQ)   \n",
              "1             None     RNA_SEQ  GeneMaskLFCScorer(requested_output=RNA_SEQ)   \n",
              "2             None     RNA_SEQ  GeneMaskLFCScorer(requested_output=RNA_SEQ)   \n",
              "3             None     RNA_SEQ  GeneMaskLFCScorer(requested_output=RNA_SEQ)   \n",
              "4             None     RNA_SEQ  GeneMaskLFCScorer(requested_output=RNA_SEQ)   \n",
              "...            ...         ...                                          ...   \n",
              "14647         None     RNA_SEQ  GeneMaskLFCScorer(requested_output=RNA_SEQ)   \n",
              "14648         None     RNA_SEQ  GeneMaskLFCScorer(requested_output=RNA_SEQ)   \n",
              "14649         None     RNA_SEQ  GeneMaskLFCScorer(requested_output=RNA_SEQ)   \n",
              "14650         None     RNA_SEQ  GeneMaskLFCScorer(requested_output=RNA_SEQ)   \n",
              "14651         None     RNA_SEQ  GeneMaskLFCScorer(requested_output=RNA_SEQ)   \n",
              "\n",
              "                                              track_name track_strand  \\\n",
              "0                          CL:0000047 polyA plus RNA-seq            -   \n",
              "1                               CL:0000062 total RNA-seq            -   \n",
              "2                          CL:0000084 polyA plus RNA-seq            -   \n",
              "3                               CL:0000084 total RNA-seq            -   \n",
              "4                               CL:0000115 total RNA-seq            -   \n",
              "...                                                  ...          ...   \n",
              "14647                  UBERON:0018115 polyA plus RNA-seq            .   \n",
              "14648                  UBERON:0018116 polyA plus RNA-seq            .   \n",
              "14649                  UBERON:0018117 polyA plus RNA-seq            .   \n",
              "14650                  UBERON:0018118 polyA plus RNA-seq            .   \n",
              "14651  UBERON:0036149 gtex Skin_Not_Sun_Exposed_Supra...            .   \n",
              "\n",
              "              Assay title  ontology_curie                   biosample_name  \\\n",
              "0      polyA plus RNA-seq      CL:0000047               neuronal stem cell   \n",
              "1           total RNA-seq      CL:0000062                       osteoblast   \n",
              "2      polyA plus RNA-seq      CL:0000084                           T-cell   \n",
              "3           total RNA-seq      CL:0000084                           T-cell   \n",
              "4           total RNA-seq      CL:0000115                 endothelial cell   \n",
              "...                   ...             ...                              ...   \n",
              "14647  polyA plus RNA-seq  UBERON:0018115                left renal pelvis   \n",
              "14648  polyA plus RNA-seq  UBERON:0018116               right renal pelvis   \n",
              "14649  polyA plus RNA-seq  UBERON:0018117   left renal cortex interstitium   \n",
              "14650  polyA plus RNA-seq  UBERON:0018118  right renal cortex interstitium   \n",
              "14651  polyA plus RNA-seq  UBERON:0036149                  suprapubic skin   \n",
              "\n",
              "                      biosample_type                      gtex_tissue  \\\n",
              "0      in_vitro_differentiated_cells                                    \n",
              "1                       primary_cell                                    \n",
              "2                       primary_cell                                    \n",
              "3                       primary_cell                                    \n",
              "4      in_vitro_differentiated_cells                                    \n",
              "...                              ...                              ...   \n",
              "14647                         tissue                                    \n",
              "14648                         tissue                                    \n",
              "14649                         tissue                                    \n",
              "14650                         tissue                                    \n",
              "14651                         tissue  Skin_Not_Sun_Exposed_Suprapubic   \n",
              "\n",
              "       raw_score  quantile_score  \n",
              "0       0.000903        0.606708  \n",
              "1      -0.000363       -0.477020  \n",
              "2      -0.007063       -0.989667  \n",
              "3      -0.007229       -0.990997  \n",
              "4       0.000461        0.449849  \n",
              "...          ...             ...  \n",
              "14647   0.006467        0.989427  \n",
              "14648   0.007303        0.992679  \n",
              "14649   0.004375        0.964537  \n",
              "14650   0.003006        0.905090  \n",
              "14651  -0.002312       -0.822706  \n",
              "\n",
              "[14652 rows x 19 columns]"
            ],
            "text/html": [
              "\n",
              "  <div id=\"df-7ea20244-405b-42dd-8bdb-09e1619b9396\" class=\"colab-df-container\">\n",
              "    <div>\n",
              "<style scoped>\n",
              "    .dataframe tbody tr th:only-of-type {\n",
              "        vertical-align: middle;\n",
              "    }\n",
              "\n",
              "    .dataframe tbody tr th {\n",
              "        vertical-align: top;\n",
              "    }\n",
              "\n",
              "    .dataframe thead th {\n",
              "        text-align: right;\n",
              "    }\n",
              "</style>\n",
              "<table border=\"1\" class=\"dataframe\">\n",
              "  <thead>\n",
              "    <tr style=\"text-align: right;\">\n",
              "      <th></th>\n",
              "      <th>variant_id</th>\n",
              "      <th>scored_interval</th>\n",
              "      <th>gene_id</th>\n",
              "      <th>gene_name</th>\n",
              "      <th>gene_type</th>\n",
              "      <th>gene_strand</th>\n",
              "      <th>junction_Start</th>\n",
              "      <th>junction_End</th>\n",
              "      <th>output_type</th>\n",
              "      <th>variant_scorer</th>\n",
              "      <th>track_name</th>\n",
              "      <th>track_strand</th>\n",
              "      <th>Assay title</th>\n",
              "      <th>ontology_curie</th>\n",
              "      <th>biosample_name</th>\n",
              "      <th>biosample_type</th>\n",
              "      <th>gtex_tissue</th>\n",
              "      <th>raw_score</th>\n",
              "      <th>quantile_score</th>\n",
              "    </tr>\n",
              "  </thead>\n",
              "  <tbody>\n",
              "    <tr>\n",
              "      <th>0</th>\n",
              "      <td>chr22:36201698:A&gt;C</td>\n",
              "      <td>chr22:35677410-36725986:.</td>\n",
              "      <td>ENSG00000100320</td>\n",
              "      <td>RBFOX2</td>\n",
              "      <td>protein_coding</td>\n",
              "      <td>-</td>\n",
              "      <td>None</td>\n",
              "      <td>None</td>\n",
              "      <td>RNA_SEQ</td>\n",
              "      <td>GeneMaskLFCScorer(requested_output=RNA_SEQ)</td>\n",
              "      <td>CL:0000047 polyA plus RNA-seq</td>\n",
              "      <td>-</td>\n",
              "      <td>polyA plus RNA-seq</td>\n",
              "      <td>CL:0000047</td>\n",
              "      <td>neuronal stem cell</td>\n",
              "      <td>in_vitro_differentiated_cells</td>\n",
              "      <td></td>\n",
              "      <td>0.000903</td>\n",
              "      <td>0.606708</td>\n",
              "    </tr>\n",
              "    <tr>\n",
              "      <th>1</th>\n",
              "      <td>chr22:36201698:A&gt;C</td>\n",
              "      <td>chr22:35677410-36725986:.</td>\n",
              "      <td>ENSG00000100320</td>\n",
              "      <td>RBFOX2</td>\n",
              "      <td>protein_coding</td>\n",
              "      <td>-</td>\n",
              "      <td>None</td>\n",
              "      <td>None</td>\n",
              "      <td>RNA_SEQ</td>\n",
              "      <td>GeneMaskLFCScorer(requested_output=RNA_SEQ)</td>\n",
              "      <td>CL:0000062 total RNA-seq</td>\n",
              "      <td>-</td>\n",
              "      <td>total RNA-seq</td>\n",
              "      <td>CL:0000062</td>\n",
              "      <td>osteoblast</td>\n",
              "      <td>primary_cell</td>\n",
              "      <td></td>\n",
              "      <td>-0.000363</td>\n",
              "      <td>-0.477020</td>\n",
              "    </tr>\n",
              "    <tr>\n",
              "      <th>2</th>\n",
              "      <td>chr22:36201698:A&gt;C</td>\n",
              "      <td>chr22:35677410-36725986:.</td>\n",
              "      <td>ENSG00000100320</td>\n",
              "      <td>RBFOX2</td>\n",
              "      <td>protein_coding</td>\n",
              "      <td>-</td>\n",
              "      <td>None</td>\n",
              "      <td>None</td>\n",
              "      <td>RNA_SEQ</td>\n",
              "      <td>GeneMaskLFCScorer(requested_output=RNA_SEQ)</td>\n",
              "      <td>CL:0000084 polyA plus RNA-seq</td>\n",
              "      <td>-</td>\n",
              "      <td>polyA plus RNA-seq</td>\n",
              "      <td>CL:0000084</td>\n",
              "      <td>T-cell</td>\n",
              "      <td>primary_cell</td>\n",
              "      <td></td>\n",
              "      <td>-0.007063</td>\n",
              "      <td>-0.989667</td>\n",
              "    </tr>\n",
              "    <tr>\n",
              "      <th>3</th>\n",
              "      <td>chr22:36201698:A&gt;C</td>\n",
              "      <td>chr22:35677410-36725986:.</td>\n",
              "      <td>ENSG00000100320</td>\n",
              "      <td>RBFOX2</td>\n",
              "      <td>protein_coding</td>\n",
              "      <td>-</td>\n",
              "      <td>None</td>\n",
              "      <td>None</td>\n",
              "      <td>RNA_SEQ</td>\n",
              "      <td>GeneMaskLFCScorer(requested_output=RNA_SEQ)</td>\n",
              "      <td>CL:0000084 total RNA-seq</td>\n",
              "      <td>-</td>\n",
              "      <td>total RNA-seq</td>\n",
              "      <td>CL:0000084</td>\n",
              "      <td>T-cell</td>\n",
              "      <td>primary_cell</td>\n",
              "      <td></td>\n",
              "      <td>-0.007229</td>\n",
              "      <td>-0.990997</td>\n",
              "    </tr>\n",
              "    <tr>\n",
              "      <th>4</th>\n",
              "      <td>chr22:36201698:A&gt;C</td>\n",
              "      <td>chr22:35677410-36725986:.</td>\n",
              "      <td>ENSG00000100320</td>\n",
              "      <td>RBFOX2</td>\n",
              "      <td>protein_coding</td>\n",
              "      <td>-</td>\n",
              "      <td>None</td>\n",
              "      <td>None</td>\n",
              "      <td>RNA_SEQ</td>\n",
              "      <td>GeneMaskLFCScorer(requested_output=RNA_SEQ)</td>\n",
              "      <td>CL:0000115 total RNA-seq</td>\n",
              "      <td>-</td>\n",
              "      <td>total RNA-seq</td>\n",
              "      <td>CL:0000115</td>\n",
              "      <td>endothelial cell</td>\n",
              "      <td>in_vitro_differentiated_cells</td>\n",
              "      <td></td>\n",
              "      <td>0.000461</td>\n",
              "      <td>0.449849</td>\n",
              "    </tr>\n",
              "    <tr>\n",
              "      <th>...</th>\n",
              "      <td>...</td>\n",
              "      <td>...</td>\n",
              "      <td>...</td>\n",
              "      <td>...</td>\n",
              "      <td>...</td>\n",
              "      <td>...</td>\n",
              "      <td>...</td>\n",
              "      <td>...</td>\n",
              "      <td>...</td>\n",
              "      <td>...</td>\n",
              "      <td>...</td>\n",
              "      <td>...</td>\n",
              "      <td>...</td>\n",
              "      <td>...</td>\n",
              "      <td>...</td>\n",
              "      <td>...</td>\n",
              "      <td>...</td>\n",
              "      <td>...</td>\n",
              "      <td>...</td>\n",
              "    </tr>\n",
              "    <tr>\n",
              "      <th>14647</th>\n",
              "      <td>chr22:36201698:A&gt;C</td>\n",
              "      <td>chr22:35677410-36725986:.</td>\n",
              "      <td>ENSG00000293594</td>\n",
              "      <td>ENSG00000293594</td>\n",
              "      <td>processed_pseudogene</td>\n",
              "      <td>-</td>\n",
              "      <td>None</td>\n",
              "      <td>None</td>\n",
              "      <td>RNA_SEQ</td>\n",
              "      <td>GeneMaskLFCScorer(requested_output=RNA_SEQ)</td>\n",
              "      <td>UBERON:0018115 polyA plus RNA-seq</td>\n",
              "      <td>.</td>\n",
              "      <td>polyA plus RNA-seq</td>\n",
              "      <td>UBERON:0018115</td>\n",
              "      <td>left renal pelvis</td>\n",
              "      <td>tissue</td>\n",
              "      <td></td>\n",
              "      <td>0.006467</td>\n",
              "      <td>0.989427</td>\n",
              "    </tr>\n",
              "    <tr>\n",
              "      <th>14648</th>\n",
              "      <td>chr22:36201698:A&gt;C</td>\n",
              "      <td>chr22:35677410-36725986:.</td>\n",
              "      <td>ENSG00000293594</td>\n",
              "      <td>ENSG00000293594</td>\n",
              "      <td>processed_pseudogene</td>\n",
              "      <td>-</td>\n",
              "      <td>None</td>\n",
              "      <td>None</td>\n",
              "      <td>RNA_SEQ</td>\n",
              "      <td>GeneMaskLFCScorer(requested_output=RNA_SEQ)</td>\n",
              "      <td>UBERON:0018116 polyA plus RNA-seq</td>\n",
              "      <td>.</td>\n",
              "      <td>polyA plus RNA-seq</td>\n",
              "      <td>UBERON:0018116</td>\n",
              "      <td>right renal pelvis</td>\n",
              "      <td>tissue</td>\n",
              "      <td></td>\n",
              "      <td>0.007303</td>\n",
              "      <td>0.992679</td>\n",
              "    </tr>\n",
              "    <tr>\n",
              "      <th>14649</th>\n",
              "      <td>chr22:36201698:A&gt;C</td>\n",
              "      <td>chr22:35677410-36725986:.</td>\n",
              "      <td>ENSG00000293594</td>\n",
              "      <td>ENSG00000293594</td>\n",
              "      <td>processed_pseudogene</td>\n",
              "      <td>-</td>\n",
              "      <td>None</td>\n",
              "      <td>None</td>\n",
              "      <td>RNA_SEQ</td>\n",
              "      <td>GeneMaskLFCScorer(requested_output=RNA_SEQ)</td>\n",
              "      <td>UBERON:0018117 polyA plus RNA-seq</td>\n",
              "      <td>.</td>\n",
              "      <td>polyA plus RNA-seq</td>\n",
              "      <td>UBERON:0018117</td>\n",
              "      <td>left renal cortex interstitium</td>\n",
              "      <td>tissue</td>\n",
              "      <td></td>\n",
              "      <td>0.004375</td>\n",
              "      <td>0.964537</td>\n",
              "    </tr>\n",
              "    <tr>\n",
              "      <th>14650</th>\n",
              "      <td>chr22:36201698:A&gt;C</td>\n",
              "      <td>chr22:35677410-36725986:.</td>\n",
              "      <td>ENSG00000293594</td>\n",
              "      <td>ENSG00000293594</td>\n",
              "      <td>processed_pseudogene</td>\n",
              "      <td>-</td>\n",
              "      <td>None</td>\n",
              "      <td>None</td>\n",
              "      <td>RNA_SEQ</td>\n",
              "      <td>GeneMaskLFCScorer(requested_output=RNA_SEQ)</td>\n",
              "      <td>UBERON:0018118 polyA plus RNA-seq</td>\n",
              "      <td>.</td>\n",
              "      <td>polyA plus RNA-seq</td>\n",
              "      <td>UBERON:0018118</td>\n",
              "      <td>right renal cortex interstitium</td>\n",
              "      <td>tissue</td>\n",
              "      <td></td>\n",
              "      <td>0.003006</td>\n",
              "      <td>0.905090</td>\n",
              "    </tr>\n",
              "    <tr>\n",
              "      <th>14651</th>\n",
              "      <td>chr22:36201698:A&gt;C</td>\n",
              "      <td>chr22:35677410-36725986:.</td>\n",
              "      <td>ENSG00000293594</td>\n",
              "      <td>ENSG00000293594</td>\n",
              "      <td>processed_pseudogene</td>\n",
              "      <td>-</td>\n",
              "      <td>None</td>\n",
              "      <td>None</td>\n",
              "      <td>RNA_SEQ</td>\n",
              "      <td>GeneMaskLFCScorer(requested_output=RNA_SEQ)</td>\n",
              "      <td>UBERON:0036149 gtex Skin_Not_Sun_Exposed_Supra...</td>\n",
              "      <td>.</td>\n",
              "      <td>polyA plus RNA-seq</td>\n",
              "      <td>UBERON:0036149</td>\n",
              "      <td>suprapubic skin</td>\n",
              "      <td>tissue</td>\n",
              "      <td>Skin_Not_Sun_Exposed_Suprapubic</td>\n",
              "      <td>-0.002312</td>\n",
              "      <td>-0.822706</td>\n",
              "    </tr>\n",
              "  </tbody>\n",
              "</table>\n",
              "<p>14652 rows × 19 columns</p>\n",
              "</div>\n",
              "    <div class=\"colab-df-buttons\">\n",
              "\n",
              "  <div class=\"colab-df-container\">\n",
              "    <button class=\"colab-df-convert\" onclick=\"convertToInteractive('df-7ea20244-405b-42dd-8bdb-09e1619b9396')\"\n",
              "            title=\"Convert this dataframe to an interactive table.\"\n",
              "            style=\"display:none;\">\n",
              "\n",
              "  <svg xmlns=\"http://www.w3.org/2000/svg\" height=\"24px\" viewBox=\"0 -960 960 960\">\n",
              "    <path d=\"M120-120v-720h720v720H120Zm60-500h600v-160H180v160Zm220 220h160v-160H400v160Zm0 220h160v-160H400v160ZM180-400h160v-160H180v160Zm440 0h160v-160H620v160ZM180-180h160v-160H180v160Zm440 0h160v-160H620v160Z\"/>\n",
              "  </svg>\n",
              "    </button>\n",
              "\n",
              "  <style>\n",
              "    .colab-df-container {\n",
              "      display:flex;\n",
              "      gap: 12px;\n",
              "    }\n",
              "\n",
              "    .colab-df-convert {\n",
              "      background-color: #E8F0FE;\n",
              "      border: none;\n",
              "      border-radius: 50%;\n",
              "      cursor: pointer;\n",
              "      display: none;\n",
              "      fill: #1967D2;\n",
              "      height: 32px;\n",
              "      padding: 0 0 0 0;\n",
              "      width: 32px;\n",
              "    }\n",
              "\n",
              "    .colab-df-convert:hover {\n",
              "      background-color: #E2EBFA;\n",
              "      box-shadow: 0px 1px 2px rgba(60, 64, 67, 0.3), 0px 1px 3px 1px rgba(60, 64, 67, 0.15);\n",
              "      fill: #174EA6;\n",
              "    }\n",
              "\n",
              "    .colab-df-buttons div {\n",
              "      margin-bottom: 4px;\n",
              "    }\n",
              "\n",
              "    [theme=dark] .colab-df-convert {\n",
              "      background-color: #3B4455;\n",
              "      fill: #D2E3FC;\n",
              "    }\n",
              "\n",
              "    [theme=dark] .colab-df-convert:hover {\n",
              "      background-color: #434B5C;\n",
              "      box-shadow: 0px 1px 3px 1px rgba(0, 0, 0, 0.15);\n",
              "      filter: drop-shadow(0px 1px 2px rgba(0, 0, 0, 0.3));\n",
              "      fill: #FFFFFF;\n",
              "    }\n",
              "  </style>\n",
              "\n",
              "    <script>\n",
              "      const buttonEl =\n",
              "        document.querySelector('#df-7ea20244-405b-42dd-8bdb-09e1619b9396 button.colab-df-convert');\n",
              "      buttonEl.style.display =\n",
              "        google.colab.kernel.accessAllowed ? 'block' : 'none';\n",
              "\n",
              "      async function convertToInteractive(key) {\n",
              "        const element = document.querySelector('#df-7ea20244-405b-42dd-8bdb-09e1619b9396');\n",
              "        const dataTable =\n",
              "          await google.colab.kernel.invokeFunction('convertToInteractive',\n",
              "                                                    [key], {});\n",
              "        if (!dataTable) return;\n",
              "\n",
              "        const docLinkHtml = 'Like what you see? Visit the ' +\n",
              "          '<a target=\"_blank\" href=https://colab.research.google.com/notebooks/data_table.ipynb>data table notebook</a>'\n",
              "          + ' to learn more about interactive tables.';\n",
              "        element.innerHTML = '';\n",
              "        dataTable['output_type'] = 'display_data';\n",
              "        await google.colab.output.renderOutput(dataTable, element);\n",
              "        const docLink = document.createElement('div');\n",
              "        docLink.innerHTML = docLinkHtml;\n",
              "        element.appendChild(docLink);\n",
              "      }\n",
              "    </script>\n",
              "  </div>\n",
              "\n",
              "\n",
              "    <div id=\"df-4367c820-f014-4abd-9318-637581438af3\">\n",
              "      <button class=\"colab-df-quickchart\" onclick=\"quickchart('df-4367c820-f014-4abd-9318-637581438af3')\"\n",
              "                title=\"Suggest charts\"\n",
              "                style=\"display:none;\">\n",
              "\n",
              "<svg xmlns=\"http://www.w3.org/2000/svg\" height=\"24px\"viewBox=\"0 0 24 24\"\n",
              "     width=\"24px\">\n",
              "    <g>\n",
              "        <path d=\"M19 3H5c-1.1 0-2 .9-2 2v14c0 1.1.9 2 2 2h14c1.1 0 2-.9 2-2V5c0-1.1-.9-2-2-2zM9 17H7v-7h2v7zm4 0h-2V7h2v10zm4 0h-2v-4h2v4z\"/>\n",
              "    </g>\n",
              "</svg>\n",
              "      </button>\n",
              "\n",
              "<style>\n",
              "  .colab-df-quickchart {\n",
              "      --bg-color: #E8F0FE;\n",
              "      --fill-color: #1967D2;\n",
              "      --hover-bg-color: #E2EBFA;\n",
              "      --hover-fill-color: #174EA6;\n",
              "      --disabled-fill-color: #AAA;\n",
              "      --disabled-bg-color: #DDD;\n",
              "  }\n",
              "\n",
              "  [theme=dark] .colab-df-quickchart {\n",
              "      --bg-color: #3B4455;\n",
              "      --fill-color: #D2E3FC;\n",
              "      --hover-bg-color: #434B5C;\n",
              "      --hover-fill-color: #FFFFFF;\n",
              "      --disabled-bg-color: #3B4455;\n",
              "      --disabled-fill-color: #666;\n",
              "  }\n",
              "\n",
              "  .colab-df-quickchart {\n",
              "    background-color: var(--bg-color);\n",
              "    border: none;\n",
              "    border-radius: 50%;\n",
              "    cursor: pointer;\n",
              "    display: none;\n",
              "    fill: var(--fill-color);\n",
              "    height: 32px;\n",
              "    padding: 0;\n",
              "    width: 32px;\n",
              "  }\n",
              "\n",
              "  .colab-df-quickchart:hover {\n",
              "    background-color: var(--hover-bg-color);\n",
              "    box-shadow: 0 1px 2px rgba(60, 64, 67, 0.3), 0 1px 3px 1px rgba(60, 64, 67, 0.15);\n",
              "    fill: var(--button-hover-fill-color);\n",
              "  }\n",
              "\n",
              "  .colab-df-quickchart-complete:disabled,\n",
              "  .colab-df-quickchart-complete:disabled:hover {\n",
              "    background-color: var(--disabled-bg-color);\n",
              "    fill: var(--disabled-fill-color);\n",
              "    box-shadow: none;\n",
              "  }\n",
              "\n",
              "  .colab-df-spinner {\n",
              "    border: 2px solid var(--fill-color);\n",
              "    border-color: transparent;\n",
              "    border-bottom-color: var(--fill-color);\n",
              "    animation:\n",
              "      spin 1s steps(1) infinite;\n",
              "  }\n",
              "\n",
              "  @keyframes spin {\n",
              "    0% {\n",
              "      border-color: transparent;\n",
              "      border-bottom-color: var(--fill-color);\n",
              "      border-left-color: var(--fill-color);\n",
              "    }\n",
              "    20% {\n",
              "      border-color: transparent;\n",
              "      border-left-color: var(--fill-color);\n",
              "      border-top-color: var(--fill-color);\n",
              "    }\n",
              "    30% {\n",
              "      border-color: transparent;\n",
              "      border-left-color: var(--fill-color);\n",
              "      border-top-color: var(--fill-color);\n",
              "      border-right-color: var(--fill-color);\n",
              "    }\n",
              "    40% {\n",
              "      border-color: transparent;\n",
              "      border-right-color: var(--fill-color);\n",
              "      border-top-color: var(--fill-color);\n",
              "    }\n",
              "    60% {\n",
              "      border-color: transparent;\n",
              "      border-right-color: var(--fill-color);\n",
              "    }\n",
              "    80% {\n",
              "      border-color: transparent;\n",
              "      border-right-color: var(--fill-color);\n",
              "      border-bottom-color: var(--fill-color);\n",
              "    }\n",
              "    90% {\n",
              "      border-color: transparent;\n",
              "      border-bottom-color: var(--fill-color);\n",
              "    }\n",
              "  }\n",
              "</style>\n",
              "\n",
              "      <script>\n",
              "        async function quickchart(key) {\n",
              "          const quickchartButtonEl =\n",
              "            document.querySelector('#' + key + ' button');\n",
              "          quickchartButtonEl.disabled = true;  // To prevent multiple clicks.\n",
              "          quickchartButtonEl.classList.add('colab-df-spinner');\n",
              "          try {\n",
              "            const charts = await google.colab.kernel.invokeFunction(\n",
              "                'suggestCharts', [key], {});\n",
              "          } catch (error) {\n",
              "            console.error('Error during call to suggestCharts:', error);\n",
              "          }\n",
              "          quickchartButtonEl.classList.remove('colab-df-spinner');\n",
              "          quickchartButtonEl.classList.add('colab-df-quickchart-complete');\n",
              "        }\n",
              "        (() => {\n",
              "          let quickchartButtonEl =\n",
              "            document.querySelector('#df-4367c820-f014-4abd-9318-637581438af3 button');\n",
              "          quickchartButtonEl.style.display =\n",
              "            google.colab.kernel.accessAllowed ? 'block' : 'none';\n",
              "        })();\n",
              "      </script>\n",
              "    </div>\n",
              "\n",
              "    </div>\n",
              "  </div>\n"
            ],
            "application/vnd.google.colaboratory.intrinsic+json": {
              "type": "dataframe",
              "repr_error": "Out of range float values are not JSON compliant: nan"
            }
          },
          "metadata": {},
          "execution_count": 40
        }
      ],
      "execution_count": 40
    },
    {
      "metadata": {
        "id": "055sHwjykYVu"
      },
      "cell_type": "markdown",
      "source": [
        "## Highlighting important regions with *in silico* mutagenesis\n",
        "\n",
        "To highlight which regions in a DNA sequence are functionally important for a final variant prediction, we can perform an **in silico mutagenesis** (ISM) analysis by scoring all possible single nucleotide variants in a specific interval.\n",
        "\n",
        "Here is a visual overview of this process:\n",
        "\n",
        "<a href=\"https://services.google.com/fh/files/misc/ism_green_v2.png\"><img src=\"https://services.google.com/fh/files/misc/ism_green_v2.png\" alt=\"ISM\" border=\"0\" height=500></a>\n"
      ]
    },
    {
      "metadata": {
        "id": "O93kx8lckYVu"
      },
      "cell_type": "markdown",
      "source": [
        "\n",
        "\n",
        "We define an `ism_interval`, which is a relatively small region of DNA that we want to systematically mutate. We also define the `sequence_interval`, which is the contextual interval the model will use when making predictions for each variant.\n"
      ]
    },
    {
      "metadata": {
        "id": "9Xhk_TsHkYVu"
      },
      "cell_type": "code",
      "source": [
        "# 2KB DNA sequence to use as context when making predictions.\n",
        "sequence_interval = genome.Interval('chr20', 3_753_000, 3_753_400)\n",
        "sequence_interval = sequence_interval.resize(dna_client.SEQUENCE_LENGTH_2KB)\n",
        "\n",
        "# Mutate all bases in the central 256-base region of the sequence_interval.\n",
        "ism_interval = sequence_interval.resize(256)"
      ],
      "outputs": [],
      "execution_count": 41
    },
    {
      "metadata": {
        "id": "d9LSDA0QkYVu"
      },
      "cell_type": "markdown",
      "source": [
        "Next, we define the scorer we want to use to score each of the ISM variants. Here, we use a center mask scorer on predicted `DNASE` values, which will score each variant's effect on DNA accessibility in the 500bp vicinity. See the [variant scoring documentation](https://www.alphagenomedocs.com/variant_scoring.html) for more information on variant scoring."
      ]
    },
    {
      "metadata": {
        "id": "twYn3L9qkYVu"
      },
      "cell_type": "code",
      "source": [
        "dnase_variant_scorer = variant_scorers.CenterMaskScorer(\n",
        "    requested_output=dna_client.OutputType.DNASE,\n",
        "    width=501,\n",
        "    aggregation_type=variant_scorers.AggregationType.DIFF_MEAN,\n",
        ")"
      ],
      "outputs": [],
      "execution_count": 42
    },
    {
      "metadata": {
        "id": "UbQxCvutkYVu"
      },
      "cell_type": "markdown",
      "source": [
        "Finally, we can use `score_variants` (notice the plural s) to score all variants.\n",
        "\n",
        "Note that this operation is quite expensive. For speed reasons, we recommend using shorter input sequences for the contextual `sequence_interval` and narrower `ism_interval` regions to mutate if possible.\n"
      ]
    },
    {
      "metadata": {
        "colab": {
          "referenced_widgets": [
            "4c8a5510f2794697804cf9f5ecef74d9",
            "520cc6c83157412e823a7b39d3f7ee19",
            "98a3ee1d299c4b1091e58993aace524a",
            "f491b18290874bd58932de8cb166957f",
            "2b058967783245f29cbb1b691d085f16",
            "baaaa7c267304131a6b601b30faa4c4d",
            "d6165c6fd1f24016b4371dcedb921a25",
            "7fd1896bd9674323a621ee9ea996e566",
            "da64b3ad5b494ea3801b2ee7e0bf73e5",
            "8f74546b24c048ed81e420151d5f6fe3",
            "5fdb60b45a4a4e728421769395854388"
          ],
          "base_uri": "https://localhost:8080/",
          "height": 0
        },
        "id": "WMuA2NQXkYVu",
        "outputId": "7e13daa0-f02d-4231-bafb-f47a1313778e"
      },
      "cell_type": "code",
      "source": [
        "variant_scores = dna_model.score_ism_variants(\n",
        "    interval=sequence_interval,\n",
        "    ism_interval=ism_interval,\n",
        "    variant_scorers=[dnase_variant_scorer],\n",
        ")"
      ],
      "outputs": [
        {
          "output_type": "display_data",
          "data": {
            "text/plain": [
              "  0%|          | 0/26 [00:00<?, ?it/s]"
            ],
            "application/vnd.jupyter.widget-view+json": {
              "version_major": 2,
              "version_minor": 0,
              "model_id": "4c8a5510f2794697804cf9f5ecef74d9"
            }
          },
          "metadata": {}
        }
      ],
      "execution_count": 43
    },
    {
      "metadata": {
        "id": "r3iJ9E-ckYVu"
      },
      "cell_type": "markdown",
      "source": [
        "The length of the returned `variant_scores` is 768, since we scored 768 variants (256 positions * 3 alternative bases per position):"
      ]
    },
    {
      "metadata": {
        "id": "NrRgRYF1kYVu",
        "outputId": "21c82cf7-dbc7-4800-97f8-a9152557fc1e",
        "colab": {
          "base_uri": "https://localhost:8080/"
        }
      },
      "cell_type": "code",
      "source": [
        "len(variant_scores)"
      ],
      "outputs": [
        {
          "output_type": "execute_result",
          "data": {
            "text/plain": [
              "768"
            ]
          },
          "metadata": {},
          "execution_count": 44
        }
      ],
      "execution_count": 44
    },
    {
      "metadata": {
        "id": "_e2WoG6pkYVu"
      },
      "cell_type": "markdown",
      "source": [
        "Each variant has scores of shape `(1, 305)`, reflecting the fact that we are not using a gene-centric scorer and that there are 305 `DNASE` tracks:"
      ]
    },
    {
      "metadata": {
        "id": "f-raKWmbkYVu",
        "outputId": "09545df7-4225-4e66-9ea9-022380e1b90e",
        "colab": {
          "base_uri": "https://localhost:8080/"
        }
      },
      "cell_type": "code",
      "source": [
        "# Index into first variant and first scorer.\n",
        "variant_scores[0][0].X.shape"
      ],
      "outputs": [
        {
          "output_type": "execute_result",
          "data": {
            "text/plain": [
              "(1, 305)"
            ]
          },
          "metadata": {},
          "execution_count": 45
        }
      ],
      "execution_count": 45
    },
    {
      "metadata": {
        "id": "nyDoTBdAkYVu"
      },
      "cell_type": "markdown",
      "source": [
        "To understand which positions are most influential in the predictions, we can visualize these scores using a sequence logo. This requires summarizing the scores into a single scalar value per variant.\n",
        "\n",
        "As an example, let's extract the DNASE score for just the K562 cell line, a widely used experimental model. Alternatively, you could average across multiple tissues to obtain a single scalar value."
      ]
    },
    {
      "metadata": {
        "id": "jK9UF4PZkYVu"
      },
      "cell_type": "code",
      "source": [
        "def extract_k562(adata):\n",
        "  values = adata.X[:, adata.var['ontology_curie'] == 'EFO:0002067']\n",
        "  assert values.size == 1\n",
        "  return values.flatten()[0]\n",
        "\n",
        "\n",
        "ism_result = ism.ism_matrix(\n",
        "    [extract_k562(x[0]) for x in variant_scores],\n",
        "    variants=[v[0].uns['variant'] for v in variant_scores],\n",
        ")"
      ],
      "outputs": [],
      "execution_count": 46
    },
    {
      "metadata": {
        "id": "UYtOmG4xkYVu"
      },
      "cell_type": "markdown",
      "source": [
        "The shape of `ism_result` is `(256, 4`) since we have 1 score per position per each of the 4 DNA bases.\n",
        "\n",
        "Note that in this case, our call to `ism.ism_matrix()` had the argument `multiply_by_sequence` set to 'True', so the output array contains non-zero values only for the bases corresponding to the reference sequence.\n"
      ]
    },
    {
      "metadata": {
        "id": "ONduc-kwkYVv",
        "outputId": "d249e91b-829c-4abc-8993-6ac459079edd",
        "colab": {
          "base_uri": "https://localhost:8080/"
        }
      },
      "cell_type": "code",
      "source": [
        "ism_result.shape"
      ],
      "outputs": [
        {
          "output_type": "execute_result",
          "data": {
            "text/plain": [
              "(256, 4)"
            ]
          },
          "metadata": {},
          "execution_count": 47
        }
      ],
      "execution_count": 47
    },
    {
      "metadata": {
        "id": "Wj0VMFwCkYVv"
      },
      "cell_type": "markdown",
      "source": [
        "Finally, we plot the contribution scores as a sequence logo:"
      ]
    },
    {
      "metadata": {
        "id": "0X9fwKw6kYVv",
        "outputId": "e186c37d-2278-4232-9dd0-71cd579373bf",
        "colab": {
          "base_uri": "https://localhost:8080/",
          "height": 0
        }
      },
      "cell_type": "code",
      "source": [
        "plot_components.plot(\n",
        "    [\n",
        "        plot_components.SeqLogo(\n",
        "            scores=ism_result,\n",
        "            scores_interval=ism_interval,\n",
        "            ylabel='ISM K562 DNase',\n",
        "        )\n",
        "    ],\n",
        "    interval=ism_interval,\n",
        "    fig_width=35,\n",
        ")\n",
        "\n",
        "plt.show()"
      ],
      "outputs": [
        {
          "output_type": "display_data",
          "data": {
            "text/plain": [
              "<Figure size 3500x100 with 1 Axes>"
            ],
            "image/png": "[encoded data removed]"
          },
          "metadata": {}
        }
      ],
      "execution_count": 48
    },
    {
      "metadata": {
        "id": "Qkuuj1p7kYVv"
      },
      "cell_type": "markdown",
      "source": [
        "This plot shows that the sequence between positions ~225 to ~240 has the strongest effect on predicted nearby DNAse in K562 cells.\n",
        "\n",
        "These contribution scores can be used to systematically discover motifs important for different modalities and cell types, find the transcription factors binding those motifs and map motif instances across the genome. Here are a few tools you can use to do this:\n",
        "- [tfmodisco-lite](https://github.com/jmschrei/tfmodisco-lite/)\n",
        "- [tangermeme](https://github.com/jmschrei/tangermeme)\n",
        "- [tomtom](https://meme-suite.org/meme/tools/tomtom)"
      ]
    },
    {
      "metadata": {
        "id": "j6Vum-X6ILaz"
      },
      "cell_type": "markdown",
      "source": [
        "## Making mouse predictions"
      ]
    },
    {
      "metadata": {
        "id": "r-E-kEitg6ru"
      },
      "cell_type": "markdown",
      "source": [
        "So far, this notebook has focused on predictions for human (`Organism.HOMO_SAPENS`). To generate predictions for mouse, specify the organism as `Organism.MUS_MUSCULUS` instead. Please note that the supported ontology terms differ between species.\n",
        "\n",
        "The following example demonstrates how to call `predict_sequence` for mouse predictions:"
      ]
    },
    {
      "metadata": {
        "id": "QjFVRG1QLVba",
        "language": "python"
      },
      "cell_type": "code",
      "source": [
        "output = dna_model.predict_sequence(\n",
        "    sequence='GATTACA'.center(2048, 'N'),  # Pad to valid sequence length.\n",
        "    organism=dna_client.Organism.MUS_MUSCULUS,\n",
        "    requested_outputs=[dna_client.OutputType.DNASE],\n",
        "    ontology_terms=['UBERON:0002048'],  # Lung.\n",
        ")"
      ],
      "outputs": [],
      "execution_count": 49
    },
    {
      "metadata": {
        "id": "WwpupBP1hPgh"
      },
      "cell_type": "markdown",
      "source": [
        "And here is an example of calling `predict_interval` for a mouse genomic interval:"
      ]
    },
    {
      "metadata": {
        "id": "lKOIZAtMLrEu",
        "outputId": "722e93b8-7e2d-443c-b32a-79a7393fc85d",
        "colab": {
          "base_uri": "https://localhost:8080/"
        }
      },
      "cell_type": "code",
      "source": [
        "interval = genome.Interval('chr1', 3_000_000, 3_000_001).resize(\n",
        "    dna_client.SEQUENCE_LENGTH_1MB\n",
        ")\n",
        "\n",
        "output = dna_model.predict_interval(\n",
        "    interval=interval,\n",
        "    organism=dna_client.Organism.MUS_MUSCULUS,\n",
        "    requested_outputs=[dna_client.OutputType.RNA_SEQ],\n",
        "    ontology_terms=['UBERON:0002048'],  # Lung.\n",
        ")\n",
        "\n",
        "output.rna_seq.values.shape"
      ],
      "outputs": [
        {
          "output_type": "execute_result",
          "data": {
            "text/plain": [
              "(1048576, 3)"
            ]
          },
          "metadata": {},
          "execution_count": 50
        }
      ],
      "execution_count": 50
    },
    {
      "metadata": {
        "id": "-1isDYNjkYVv"
      },
      "cell_type": "markdown",
      "source": [
        "## Conclusion\n",
        "\n",
        "That's it for the quick start guide. To dive in further, check out our [other tutorials](https://www.alphagenomedocs.com/tutorials/index.html).\n"
      ]
    }
  ],
  "metadata": {
    "colab": {
      "provenance": []
    },
    "kernelspec": {
      "display_name": "Python 3",
      "name": "python3"
    },
    "language_info": {
      "name": "python"
    },
    "widgets": {
      "application/vnd.jupyter.widget-state+json": {
        "4c8a5510f2794697804cf9f5ecef74d9": {
          "model_module": "@jupyter-widgets/controls",
          "model_name": "HBoxModel",
          "model_module_version": "1.5.0",
          "state": {
            "_dom_classes": [],
            "_model_module": "@jupyter-widgets/controls",
            "_model_module_version": "1.5.0",
            "_model_name": "HBoxModel",
            "_view_count": null,
            "_view_module": "@jupyter-widgets/controls",
            "_view_module_version": "1.5.0",
            "_view_name": "HBoxView",
            "box_style": "",
            "children": [
              "IPY_MODEL_520cc6c83157412e823a7b39d3f7ee19",
              "IPY_MODEL_98a3ee1d299c4b1091e58993aace524a",
              "IPY_MODEL_f491b18290874bd58932de8cb166957f"
            ],
            "layout": "IPY_MODEL_2b058967783245f29cbb1b691d085f16"
          }
        },
        "520cc6c83157412e823a7b39d3f7ee19": {
          "model_module": "@jupyter-widgets/controls",
          "model_name": "HTMLModel",
          "model_module_version": "1.5.0",
          "state": {
            "_dom_classes": [],
            "_model_module": "@jupyter-widgets/controls",
            "_model_module_version": "1.5.0",
            "_model_name": "HTMLModel",
            "_view_count": null,
            "_view_module": "@jupyter-widgets/controls",
            "_view_module_version": "1.5.0",
            "_view_name": "HTMLView",
            "description": "",
            "description_tooltip": null,
            "layout": "IPY_MODEL_baaaa7c267304131a6b601b30faa4c4d",
            "placeholder": "​",
            "style": "IPY_MODEL_d6165c6fd1f24016b4371dcedb921a25",
            "value": "100%"
          }
        },
        "98a3ee1d299c4b1091e58993aace524a": {
          "model_module": "@jupyter-widgets/controls",
          "model_name": "FloatProgressModel",
          "model_module_version": "1.5.0",
          "state": {
            "_dom_classes": [],
            "_model_module": "@jupyter-widgets/controls",
            "_model_module_version": "1.5.0",
            "_model_name": "FloatProgressModel",
            "_view_count": null,
            "_view_module": "@jupyter-widgets/controls",
            "_view_module_version": "1.5.0",
            "_view_name": "ProgressView",
            "bar_style": "success",
            "description": "",
            "description_tooltip": null,
            "layout": "IPY_MODEL_7fd1896bd9674323a621ee9ea996e566",
            "max": 26,
            "min": 0,
            "orientation": "horizontal",
            "style": "IPY_MODEL_da64b3ad5b494ea3801b2ee7e0bf73e5",
            "value": 26
          }
        },
        "f491b18290874bd58932de8cb166957f": {
          "model_module": "@jupyter-widgets/controls",
          "model_name": "HTMLModel",
          "model_module_version": "1.5.0",
          "state": {
            "_dom_classes": [],
            "_model_module": "@jupyter-widgets/controls",
            "_model_module_version": "1.5.0",
            "_model_name": "HTMLModel",
            "_view_count": null,
            "_view_module": "@jupyter-widgets/controls",
            "_view_module_version": "1.5.0",
            "_view_name": "HTMLView",
            "description": "",
            "description_tooltip": null,
            "layout": "IPY_MODEL_8f74546b24c048ed81e420151d5f6fe3",
            "placeholder": "​",
            "style": "IPY_MODEL_5fdb60b45a4a4e728421769395854388",
            "value": " 26/26 [00:08&lt;00:00,  3.61it/s]"
          }
        },
        "2b058967783245f29cbb1b691d085f16": {
          "model_module": "@jupyter-widgets/base",
          "model_name": "LayoutModel",
          "model_module_version": "1.2.0",
          "state": {
            "_model_module": "@jupyter-widgets/base",
            "_model_module_version": "1.2.0",
            "_model_name": "LayoutModel",
            "_view_count": null,
            "_view_module": "@jupyter-widgets/base",
            "_view_module_version": "1.2.0",
            "_view_name": "LayoutView",
            "align_content": null,
            "align_items": null,
            "align_self": null,
            "border": null,
            "bottom": null,
            "display": null,
            "flex": null,
            "flex_flow": null,
            "grid_area": null,
            "grid_auto_columns": null,
            "grid_auto_flow": null,
            "grid_auto_rows": null,
            "grid_column": null,
            "grid_gap": null,
            "grid_row": null,
            "grid_template_areas": null,
            "grid_template_columns": null,
            "grid_template_rows": null,
            "height": null,
            "justify_content": null,
            "justify_items": null,
            "left": null,
            "margin": null,
            "max_height": null,
            "max_width": null,
            "min_height": null,
            "min_width": null,
            "object_fit": null,
            "object_position": null,
            "order": null,
            "overflow": null,
            "overflow_x": null,
            "overflow_y": null,
            "padding": null,
            "right": null,
            "top": null,
            "visibility": null,
            "width": null
          }
        },
        "baaaa7c267304131a6b601b30faa4c4d": {
          "model_module": "@jupyter-widgets/base",
          "model_name": "LayoutModel",
          "model_module_version": "1.2.0",
          "state": {
            "_model_module": "@jupyter-widgets/base",
            "_model_module_version": "1.2.0",
            "_model_name": "LayoutModel",
            "_view_count": null,
            "_view_module": "@jupyter-widgets/base",
            "_view_module_version": "1.2.0",
            "_view_name": "LayoutView",
            "align_content": null,
            "align_items": null,
            "align_self": null,
            "border": null,
            "bottom": null,
            "display": null,
            "flex": null,
            "flex_flow": null,
            "grid_area": null,
            "grid_auto_columns": null,
            "grid_auto_flow": null,
            "grid_auto_rows": null,
            "grid_column": null,
            "grid_gap": null,
            "grid_row": null,
            "grid_template_areas": null,
            "grid_template_columns": null,
            "grid_template_rows": null,
            "height": null,
            "justify_content": null,
            "justify_items": null,
            "left": null,
            "margin": null,
            "max_height": null,
            "max_width": null,
            "min_height": null,
            "min_width": null,
            "object_fit": null,
            "object_position": null,
            "order": null,
            "overflow": null,
            "overflow_x": null,
            "overflow_y": null,
            "padding": null,
            "right": null,
            "top": null,
            "visibility": null,
            "width": null
          }
        },
        "d6165c6fd1f24016b4371dcedb921a25": {
          "model_module": "@jupyter-widgets/controls",
          "model_name": "DescriptionStyleModel",
          "model_module_version": "1.5.0",
          "state": {
            "_model_module": "@jupyter-widgets/controls",
            "_model_module_version": "1.5.0",
            "_model_name": "DescriptionStyleModel",
            "_view_count": null,
            "_view_module": "@jupyter-widgets/base",
            "_view_module_version": "1.2.0",
            "_view_name": "StyleView",
            "description_width": ""
          }
        },
        "7fd1896bd9674323a621ee9ea996e566": {
          "model_module": "@jupyter-widgets/base",
          "model_name": "LayoutModel",
          "model_module_version": "1.2.0",
          "state": {
            "_model_module": "@jupyter-widgets/base",
            "_model_module_version": "1.2.0",
            "_model_name": "LayoutModel",
            "_view_count": null,
            "_view_module": "@jupyter-widgets/base",
            "_view_module_version": "1.2.0",
            "_view_name": "LayoutView",
            "align_content": null,
            "align_items": null,
            "align_self": null,
            "border": null,
            "bottom": null,
            "display": null,
            "flex": null,
            "flex_flow": null,
            "grid_area": null,
            "grid_auto_columns": null,
            "grid_auto_flow": null,
            "grid_auto_rows": null,
            "grid_column": null,
            "grid_gap": null,
            "grid_row": null,
            "grid_template_areas": null,
            "grid_template_columns": null,
            "grid_template_rows": null,
            "height": null,
            "justify_content": null,
            "justify_items": null,
            "left": null,
            "margin": null,
            "max_height": null,
            "max_width": null,
            "min_height": null,
            "min_width": null,
            "object_fit": null,
            "object_position": null,
            "order": null,
            "overflow": null,
            "overflow_x": null,
            "overflow_y": null,
            "padding": null,
            "right": null,
            "top": null,
            "visibility": null,
            "width": null
          }
        },
        "da64b3ad5b494ea3801b2ee7e0bf73e5": {
          "model_module": "@jupyter-widgets/controls",
          "model_name": "ProgressStyleModel",
          "model_module_version": "1.5.0",
          "state": {
            "_model_module": "@jupyter-widgets/controls",
            "_model_module_version": "1.5.0",
            "_model_name": "ProgressStyleModel",
            "_view_count": null,
            "_view_module": "@jupyter-widgets/base",
            "_view_module_version": "1.2.0",
            "_view_name": "StyleView",
            "bar_color": null,
            "description_width": ""
          }
        },
        "8f74546b24c048ed81e420151d5f6fe3": {
          "model_module": "@jupyter-widgets/base",
          "model_name": "LayoutModel",
          "model_module_version": "1.2.0",
          "state": {
            "_model_module": "@jupyter-widgets/base",
            "_model_module_version": "1.2.0",
            "_model_name": "LayoutModel",
            "_view_count": null,
            "_view_module": "@jupyter-widgets/base",
            "_view_module_version": "1.2.0",
            "_view_name": "LayoutView",
            "align_content": null,
            "align_items": null,
            "align_self": null,
            "border": null,
            "bottom": null,
            "display": null,
            "flex": null,
            "flex_flow": null,
            "grid_area": null,
            "grid_auto_columns": null,
            "grid_auto_flow": null,
            "grid_auto_rows": null,
            "grid_column": null,
            "grid_gap": null,
            "grid_row": null,
            "grid_template_areas": null,
            "grid_template_columns": null,
            "grid_template_rows": null,
            "height": null,
            "justify_content": null,
            "justify_items": null,
            "left": null,
            "margin": null,
            "max_height": null,
            "max_width": null,
            "min_height": null,
            "min_width": null,
            "object_fit": null,
            "object_position": null,
            "order": null,
            "overflow": null,
            "overflow_x": null,
            "overflow_y": null,
            "padding": null,
            "right": null,
            "top": null,
            "visibility": null,
            "width": null
          }
        },
        "5fdb60b45a4a4e728421769395854388": {
          "model_module": "@jupyter-widgets/controls",
          "model_name": "DescriptionStyleModel",
          "model_module_version": "1.5.0",
          "state": {
            "_model_module": "@jupyter-widgets/controls",
            "_model_module_version": "1.5.0",
            "_model_name": "DescriptionStyleModel",
            "_view_count": null,
            "_view_module": "@jupyter-widgets/base",
            "_view_module_version": "1.2.0",
            "_view_name": "StyleView",
            "description_width": ""
          }
        }
      }
    }
  },
  "nbformat": 4,
  "nbformat_minor": 0
}